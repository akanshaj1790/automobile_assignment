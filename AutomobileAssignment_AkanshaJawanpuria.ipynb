{
 "cells": [
  {
   "cell_type": "markdown",
   "metadata": {},
   "source": [
    "# Automobile Assignment \n",
    "To understand the factors on which the pricing of cars depends. Specifically, to understand the factors affecting the pricing of cars in the American market, since those may be very different from the Chinese market. Essentially, the company wants to know:\n",
    "\n",
    "1) Which variables are significant in predicting the price of a car\n",
    "2) How well those variables describe the price of a car\n",
    "\n",
    "Submitted by:\n",
    "Akansha.jawanpuria@gmail.com"
   ]
  },
  {
   "cell_type": "code",
   "execution_count": 1,
   "metadata": {},
   "outputs": [
    {
     "name": "stderr",
     "output_type": "stream",
     "text": [
      "C:\\Users\\ajawanpu\\AppData\\Local\\Continuum\\anaconda3\\lib\\site-packages\\sklearn\\cross_validation.py:41: DeprecationWarning: This module was deprecated in version 0.18 in favor of the model_selection module into which all the refactored classes and functions are moved. Also note that the interface of the new CV iterators are different from that of this module. This module will be removed in 0.20.\n",
      "  \"This module will be removed in 0.20.\", DeprecationWarning)\n",
      "C:\\Users\\ajawanpu\\AppData\\Local\\Continuum\\anaconda3\\lib\\site-packages\\statsmodels\\compat\\pandas.py:56: FutureWarning: The pandas.core.datetools module is deprecated and will be removed in a future version. Please use the pandas.tseries module instead.\n",
      "  from pandas.core import datetools\n"
     ]
    }
   ],
   "source": [
    "#importing the required libraries\n",
    "import pandas as pd\n",
    "import numpy as np\n",
    "import matplotlib.pyplot as plt\n",
    "import seaborn as sns\n",
    "from sklearn.cross_validation import train_test_split\n",
    "from sklearn.linear_model import LinearRegression\n",
    "import statsmodels.api as sm\n",
    "from sklearn.metrics import mean_squared_error, r2_score\n",
    "from sklearn.feature_selection import RFE\n",
    "import warnings\n",
    "\n",
    "warnings.filterwarnings('ignore')"
   ]
  },
  {
   "cell_type": "markdown",
   "metadata": {},
   "source": [
    "# 1. Load and clean the dataset"
   ]
  },
  {
   "cell_type": "code",
   "execution_count": 2,
   "metadata": {},
   "outputs": [
    {
     "name": "stdout",
     "output_type": "stream",
     "text": [
      "Number of records to study and analyze the automobile industry - 205\n"
     ]
    }
   ],
   "source": [
    "#Reading the automobile data provided \n",
    "automobile=pd.read_csv(\"CarPrice_Assignment.csv\")\n",
    "print(\"Number of records to study and analyze the automobile industry - {}\".format(automobile.shape[0]))"
   ]
  },
  {
   "cell_type": "code",
   "execution_count": 3,
   "metadata": {},
   "outputs": [
    {
     "data": {
      "text/html": [
       "<div>\n",
       "<style>\n",
       "    .dataframe thead tr:only-child th {\n",
       "        text-align: right;\n",
       "    }\n",
       "\n",
       "    .dataframe thead th {\n",
       "        text-align: left;\n",
       "    }\n",
       "\n",
       "    .dataframe tbody tr th {\n",
       "        vertical-align: top;\n",
       "    }\n",
       "</style>\n",
       "<table border=\"1\" class=\"dataframe\">\n",
       "  <thead>\n",
       "    <tr style=\"text-align: right;\">\n",
       "      <th></th>\n",
       "      <th>car_ID</th>\n",
       "      <th>symboling</th>\n",
       "      <th>CarName</th>\n",
       "      <th>fueltype</th>\n",
       "      <th>aspiration</th>\n",
       "      <th>doornumber</th>\n",
       "      <th>carbody</th>\n",
       "      <th>drivewheel</th>\n",
       "      <th>enginelocation</th>\n",
       "      <th>wheelbase</th>\n",
       "      <th>...</th>\n",
       "      <th>enginesize</th>\n",
       "      <th>fuelsystem</th>\n",
       "      <th>boreratio</th>\n",
       "      <th>stroke</th>\n",
       "      <th>compressionratio</th>\n",
       "      <th>horsepower</th>\n",
       "      <th>peakrpm</th>\n",
       "      <th>citympg</th>\n",
       "      <th>highwaympg</th>\n",
       "      <th>price</th>\n",
       "    </tr>\n",
       "  </thead>\n",
       "  <tbody>\n",
       "    <tr>\n",
       "      <th>0</th>\n",
       "      <td>1</td>\n",
       "      <td>3</td>\n",
       "      <td>alfa-romero giulia</td>\n",
       "      <td>gas</td>\n",
       "      <td>std</td>\n",
       "      <td>two</td>\n",
       "      <td>convertible</td>\n",
       "      <td>rwd</td>\n",
       "      <td>front</td>\n",
       "      <td>88.6</td>\n",
       "      <td>...</td>\n",
       "      <td>130</td>\n",
       "      <td>mpfi</td>\n",
       "      <td>3.47</td>\n",
       "      <td>2.68</td>\n",
       "      <td>9.0</td>\n",
       "      <td>111</td>\n",
       "      <td>5000</td>\n",
       "      <td>21</td>\n",
       "      <td>27</td>\n",
       "      <td>13495.0</td>\n",
       "    </tr>\n",
       "    <tr>\n",
       "      <th>1</th>\n",
       "      <td>2</td>\n",
       "      <td>3</td>\n",
       "      <td>alfa-romero stelvio</td>\n",
       "      <td>gas</td>\n",
       "      <td>std</td>\n",
       "      <td>two</td>\n",
       "      <td>convertible</td>\n",
       "      <td>rwd</td>\n",
       "      <td>front</td>\n",
       "      <td>88.6</td>\n",
       "      <td>...</td>\n",
       "      <td>130</td>\n",
       "      <td>mpfi</td>\n",
       "      <td>3.47</td>\n",
       "      <td>2.68</td>\n",
       "      <td>9.0</td>\n",
       "      <td>111</td>\n",
       "      <td>5000</td>\n",
       "      <td>21</td>\n",
       "      <td>27</td>\n",
       "      <td>16500.0</td>\n",
       "    </tr>\n",
       "    <tr>\n",
       "      <th>2</th>\n",
       "      <td>3</td>\n",
       "      <td>1</td>\n",
       "      <td>alfa-romero Quadrifoglio</td>\n",
       "      <td>gas</td>\n",
       "      <td>std</td>\n",
       "      <td>two</td>\n",
       "      <td>hatchback</td>\n",
       "      <td>rwd</td>\n",
       "      <td>front</td>\n",
       "      <td>94.5</td>\n",
       "      <td>...</td>\n",
       "      <td>152</td>\n",
       "      <td>mpfi</td>\n",
       "      <td>2.68</td>\n",
       "      <td>3.47</td>\n",
       "      <td>9.0</td>\n",
       "      <td>154</td>\n",
       "      <td>5000</td>\n",
       "      <td>19</td>\n",
       "      <td>26</td>\n",
       "      <td>16500.0</td>\n",
       "    </tr>\n",
       "    <tr>\n",
       "      <th>3</th>\n",
       "      <td>4</td>\n",
       "      <td>2</td>\n",
       "      <td>audi 100 ls</td>\n",
       "      <td>gas</td>\n",
       "      <td>std</td>\n",
       "      <td>four</td>\n",
       "      <td>sedan</td>\n",
       "      <td>fwd</td>\n",
       "      <td>front</td>\n",
       "      <td>99.8</td>\n",
       "      <td>...</td>\n",
       "      <td>109</td>\n",
       "      <td>mpfi</td>\n",
       "      <td>3.19</td>\n",
       "      <td>3.40</td>\n",
       "      <td>10.0</td>\n",
       "      <td>102</td>\n",
       "      <td>5500</td>\n",
       "      <td>24</td>\n",
       "      <td>30</td>\n",
       "      <td>13950.0</td>\n",
       "    </tr>\n",
       "    <tr>\n",
       "      <th>4</th>\n",
       "      <td>5</td>\n",
       "      <td>2</td>\n",
       "      <td>audi 100ls</td>\n",
       "      <td>gas</td>\n",
       "      <td>std</td>\n",
       "      <td>four</td>\n",
       "      <td>sedan</td>\n",
       "      <td>4wd</td>\n",
       "      <td>front</td>\n",
       "      <td>99.4</td>\n",
       "      <td>...</td>\n",
       "      <td>136</td>\n",
       "      <td>mpfi</td>\n",
       "      <td>3.19</td>\n",
       "      <td>3.40</td>\n",
       "      <td>8.0</td>\n",
       "      <td>115</td>\n",
       "      <td>5500</td>\n",
       "      <td>18</td>\n",
       "      <td>22</td>\n",
       "      <td>17450.0</td>\n",
       "    </tr>\n",
       "  </tbody>\n",
       "</table>\n",
       "<p>5 rows × 26 columns</p>\n",
       "</div>"
      ],
      "text/plain": [
       "   car_ID  symboling                   CarName fueltype aspiration doornumber  \\\n",
       "0       1          3        alfa-romero giulia      gas        std        two   \n",
       "1       2          3       alfa-romero stelvio      gas        std        two   \n",
       "2       3          1  alfa-romero Quadrifoglio      gas        std        two   \n",
       "3       4          2               audi 100 ls      gas        std       four   \n",
       "4       5          2                audi 100ls      gas        std       four   \n",
       "\n",
       "       carbody drivewheel enginelocation  wheelbase   ...     enginesize  \\\n",
       "0  convertible        rwd          front       88.6   ...            130   \n",
       "1  convertible        rwd          front       88.6   ...            130   \n",
       "2    hatchback        rwd          front       94.5   ...            152   \n",
       "3        sedan        fwd          front       99.8   ...            109   \n",
       "4        sedan        4wd          front       99.4   ...            136   \n",
       "\n",
       "   fuelsystem  boreratio  stroke compressionratio horsepower  peakrpm citympg  \\\n",
       "0        mpfi       3.47    2.68              9.0        111     5000      21   \n",
       "1        mpfi       3.47    2.68              9.0        111     5000      21   \n",
       "2        mpfi       2.68    3.47              9.0        154     5000      19   \n",
       "3        mpfi       3.19    3.40             10.0        102     5500      24   \n",
       "4        mpfi       3.19    3.40              8.0        115     5500      18   \n",
       "\n",
       "   highwaympg    price  \n",
       "0          27  13495.0  \n",
       "1          27  16500.0  \n",
       "2          26  16500.0  \n",
       "3          30  13950.0  \n",
       "4          22  17450.0  \n",
       "\n",
       "[5 rows x 26 columns]"
      ]
     },
     "execution_count": 3,
     "metadata": {},
     "output_type": "execute_result"
    }
   ],
   "source": [
    "#How does the data look?\n",
    "automobile.head()"
   ]
  },
  {
   "cell_type": "code",
   "execution_count": 4,
   "metadata": {},
   "outputs": [
    {
     "name": "stdout",
     "output_type": "stream",
     "text": [
      "            car_ID   symboling      CarName fueltype aspiration doornumber  \\\n",
      "count   205.000000  205.000000          205      205        205        205   \n",
      "unique         NaN         NaN          147        2          2          2   \n",
      "top            NaN         NaN  peugeot 504      gas        std       four   \n",
      "freq           NaN         NaN            6      185        168        115   \n",
      "mean    103.000000    0.834146          NaN      NaN        NaN        NaN   \n",
      "std      59.322565    1.245307          NaN      NaN        NaN        NaN   \n",
      "min       1.000000   -2.000000          NaN      NaN        NaN        NaN   \n",
      "25%      52.000000    0.000000          NaN      NaN        NaN        NaN   \n",
      "50%     103.000000    1.000000          NaN      NaN        NaN        NaN   \n",
      "75%     154.000000    2.000000          NaN      NaN        NaN        NaN   \n",
      "max     205.000000    3.000000          NaN      NaN        NaN        NaN   \n",
      "\n",
      "       carbody drivewheel enginelocation   wheelbase      ...       \\\n",
      "count      205        205            205  205.000000      ...        \n",
      "unique       5          3              2         NaN      ...        \n",
      "top      sedan        fwd          front         NaN      ...        \n",
      "freq        96        120            202         NaN      ...        \n",
      "mean       NaN        NaN            NaN   98.756585      ...        \n",
      "std        NaN        NaN            NaN    6.021776      ...        \n",
      "min        NaN        NaN            NaN   86.600000      ...        \n",
      "25%        NaN        NaN            NaN   94.500000      ...        \n",
      "50%        NaN        NaN            NaN   97.000000      ...        \n",
      "75%        NaN        NaN            NaN  102.400000      ...        \n",
      "max        NaN        NaN            NaN  120.900000      ...        \n",
      "\n",
      "        enginesize  fuelsystem   boreratio      stroke compressionratio  \\\n",
      "count   205.000000         205  205.000000  205.000000       205.000000   \n",
      "unique         NaN           8         NaN         NaN              NaN   \n",
      "top            NaN        mpfi         NaN         NaN              NaN   \n",
      "freq           NaN          94         NaN         NaN              NaN   \n",
      "mean    126.907317         NaN    3.329756    3.255415        10.142537   \n",
      "std      41.642693         NaN    0.270844    0.313597         3.972040   \n",
      "min      61.000000         NaN    2.540000    2.070000         7.000000   \n",
      "25%      97.000000         NaN    3.150000    3.110000         8.600000   \n",
      "50%     120.000000         NaN    3.310000    3.290000         9.000000   \n",
      "75%     141.000000         NaN    3.580000    3.410000         9.400000   \n",
      "max     326.000000         NaN    3.940000    4.170000        23.000000   \n",
      "\n",
      "        horsepower      peakrpm     citympg  highwaympg         price  \n",
      "count   205.000000   205.000000  205.000000  205.000000    205.000000  \n",
      "unique         NaN          NaN         NaN         NaN           NaN  \n",
      "top            NaN          NaN         NaN         NaN           NaN  \n",
      "freq           NaN          NaN         NaN         NaN           NaN  \n",
      "mean    104.117073  5125.121951   25.219512   30.751220  13276.710571  \n",
      "std      39.544167   476.985643    6.542142    6.886443   7988.852332  \n",
      "min      48.000000  4150.000000   13.000000   16.000000   5118.000000  \n",
      "25%      70.000000  4800.000000   19.000000   25.000000   7788.000000  \n",
      "50%      95.000000  5200.000000   24.000000   30.000000  10295.000000  \n",
      "75%     116.000000  5500.000000   30.000000   34.000000  16503.000000  \n",
      "max     288.000000  6600.000000   49.000000   54.000000  45400.000000  \n",
      "\n",
      "[11 rows x 26 columns]\n",
      "['car_ID', 'symboling', 'CarName', 'fueltype', 'aspiration', 'doornumber', 'carbody', 'drivewheel', 'enginelocation', 'wheelbase', 'carlength', 'carwidth', 'carheight', 'curbweight', 'enginetype', 'cylindernumber', 'enginesize', 'fuelsystem', 'boreratio', 'stroke', 'compressionratio', 'horsepower', 'peakrpm', 'citympg', 'highwaympg', 'price']\n"
     ]
    }
   ],
   "source": [
    "#What are the independent variables present in the file? Nature of the variables - categorical/Numerical?\n",
    "print(automobile.describe(include='all'))\n",
    "print(list(automobile))"
   ]
  },
  {
   "cell_type": "code",
   "execution_count": 5,
   "metadata": {},
   "outputs": [
    {
     "name": "stdout",
     "output_type": "stream",
     "text": [
      "Total number of null variables in the data: 0\n",
      "Total number of null variables in the data: 0\n",
      "\n",
      "The null columns are: \n",
      "\n",
      "\n",
      "The constant columns are: \n",
      ": \n"
     ]
    }
   ],
   "source": [
    "#check if any columns are null or constant in the dataset\n",
    "null_columns = automobile.columns[automobile.apply(lambda x: pd.isnull(x).sum() == len(x))]\n",
    "constant_columns = automobile.columns[automobile.apply(lambda x: x.nunique() == 1)]\n",
    "print(\"Total number of null variables in the data: {}\".format(len(null_columns)))\n",
    "print(\"Total number of null variables in the data: {}\".format(len(constant_columns)))\n",
    "print(\"\\nThe null columns are: \\n{}\\n\".format(\", \".join(null_columns.tolist())))\n",
    "print(\"The constant columns are: \\n: {}\".format(\", \".join(constant_columns.tolist())))"
   ]
  },
  {
   "cell_type": "markdown",
   "metadata": {},
   "source": [
    "No such column found in the dataset.\n",
    "Lets see if can also remove columns that contain more than 50% missing values. Let's find out what are the columns with high NA counts."
   ]
  },
  {
   "cell_type": "code",
   "execution_count": 6,
   "metadata": {},
   "outputs": [
    {
     "name": "stdout",
     "output_type": "stream",
     "text": [
      "Series([], dtype: int64)\n",
      "car_ID              0\n",
      "symboling           0\n",
      "CarName             0\n",
      "fueltype            0\n",
      "aspiration          0\n",
      "doornumber          0\n",
      "carbody             0\n",
      "drivewheel          0\n",
      "enginelocation      0\n",
      "wheelbase           0\n",
      "carlength           0\n",
      "carwidth            0\n",
      "carheight           0\n",
      "curbweight          0\n",
      "enginetype          0\n",
      "cylindernumber      0\n",
      "enginesize          0\n",
      "fuelsystem          0\n",
      "boreratio           0\n",
      "stroke              0\n",
      "compressionratio    0\n",
      "horsepower          0\n",
      "peakrpm             0\n",
      "citympg             0\n",
      "highwaympg          0\n",
      "price               0\n",
      "dtype: int64\n"
     ]
    }
   ],
   "source": [
    "na_counts = pd.isnull(automobile).sum()\n",
    "high_na_cols = na_counts[na_counts >= np.int32(automobile.shape[0]/2)]\n",
    "print(high_na_cols)\n",
    "print(na_counts)"
   ]
  },
  {
   "cell_type": "markdown",
   "metadata": {},
   "source": [
    "Turns out - No such columns. We have no missing values in the dataset."
   ]
  },
  {
   "cell_type": "markdown",
   "metadata": {},
   "source": [
    "# 2. Create dummy variables and normalizing the dataset"
   ]
  },
  {
   "cell_type": "code",
   "execution_count": 7,
   "metadata": {},
   "outputs": [
    {
     "name": "stdout",
     "output_type": "stream",
     "text": [
      "car_ID                int64\n",
      "symboling             int64\n",
      "CarName              object\n",
      "fueltype             object\n",
      "aspiration           object\n",
      "doornumber           object\n",
      "carbody              object\n",
      "drivewheel           object\n",
      "enginelocation       object\n",
      "wheelbase           float64\n",
      "carlength           float64\n",
      "carwidth            float64\n",
      "carheight           float64\n",
      "curbweight            int64\n",
      "enginetype           object\n",
      "cylindernumber       object\n",
      "enginesize            int64\n",
      "fuelsystem           object\n",
      "boreratio           float64\n",
      "stroke              float64\n",
      "compressionratio    float64\n",
      "horsepower            int64\n",
      "peakrpm               int64\n",
      "citympg               int64\n",
      "highwaympg            int64\n",
      "price               float64\n",
      "dtype: object\n"
     ]
    }
   ],
   "source": [
    "#once again printing the column and datatype\n",
    "print(automobile.dtypes)"
   ]
  },
  {
   "cell_type": "code",
   "execution_count": 8,
   "metadata": {},
   "outputs": [
    {
     "data": {
      "text/html": [
       "<div>\n",
       "<style>\n",
       "    .dataframe thead tr:only-child th {\n",
       "        text-align: right;\n",
       "    }\n",
       "\n",
       "    .dataframe thead th {\n",
       "        text-align: left;\n",
       "    }\n",
       "\n",
       "    .dataframe tbody tr th {\n",
       "        vertical-align: top;\n",
       "    }\n",
       "</style>\n",
       "<table border=\"1\" class=\"dataframe\">\n",
       "  <thead>\n",
       "    <tr style=\"text-align: right;\">\n",
       "      <th></th>\n",
       "      <th>car_ID</th>\n",
       "      <th>symboling</th>\n",
       "      <th>CarName</th>\n",
       "      <th>fueltype</th>\n",
       "      <th>aspiration</th>\n",
       "      <th>doornumber</th>\n",
       "      <th>carbody</th>\n",
       "      <th>drivewheel</th>\n",
       "      <th>enginelocation</th>\n",
       "      <th>wheelbase</th>\n",
       "      <th>...</th>\n",
       "      <th>enginesize</th>\n",
       "      <th>fuelsystem</th>\n",
       "      <th>boreratio</th>\n",
       "      <th>stroke</th>\n",
       "      <th>compressionratio</th>\n",
       "      <th>horsepower</th>\n",
       "      <th>peakrpm</th>\n",
       "      <th>citympg</th>\n",
       "      <th>highwaympg</th>\n",
       "      <th>price</th>\n",
       "    </tr>\n",
       "  </thead>\n",
       "  <tbody>\n",
       "    <tr>\n",
       "      <th>count</th>\n",
       "      <td>205.000000</td>\n",
       "      <td>205.000000</td>\n",
       "      <td>205</td>\n",
       "      <td>205</td>\n",
       "      <td>205</td>\n",
       "      <td>205</td>\n",
       "      <td>205</td>\n",
       "      <td>205</td>\n",
       "      <td>205</td>\n",
       "      <td>205.000000</td>\n",
       "      <td>...</td>\n",
       "      <td>205.000000</td>\n",
       "      <td>205</td>\n",
       "      <td>205.000000</td>\n",
       "      <td>205.000000</td>\n",
       "      <td>205.000000</td>\n",
       "      <td>205.000000</td>\n",
       "      <td>205.000000</td>\n",
       "      <td>205.000000</td>\n",
       "      <td>205.000000</td>\n",
       "      <td>205.000000</td>\n",
       "    </tr>\n",
       "    <tr>\n",
       "      <th>unique</th>\n",
       "      <td>NaN</td>\n",
       "      <td>NaN</td>\n",
       "      <td>147</td>\n",
       "      <td>2</td>\n",
       "      <td>2</td>\n",
       "      <td>2</td>\n",
       "      <td>5</td>\n",
       "      <td>3</td>\n",
       "      <td>2</td>\n",
       "      <td>NaN</td>\n",
       "      <td>...</td>\n",
       "      <td>NaN</td>\n",
       "      <td>8</td>\n",
       "      <td>NaN</td>\n",
       "      <td>NaN</td>\n",
       "      <td>NaN</td>\n",
       "      <td>NaN</td>\n",
       "      <td>NaN</td>\n",
       "      <td>NaN</td>\n",
       "      <td>NaN</td>\n",
       "      <td>NaN</td>\n",
       "    </tr>\n",
       "    <tr>\n",
       "      <th>top</th>\n",
       "      <td>NaN</td>\n",
       "      <td>NaN</td>\n",
       "      <td>peugeot 504</td>\n",
       "      <td>gas</td>\n",
       "      <td>std</td>\n",
       "      <td>four</td>\n",
       "      <td>sedan</td>\n",
       "      <td>fwd</td>\n",
       "      <td>front</td>\n",
       "      <td>NaN</td>\n",
       "      <td>...</td>\n",
       "      <td>NaN</td>\n",
       "      <td>mpfi</td>\n",
       "      <td>NaN</td>\n",
       "      <td>NaN</td>\n",
       "      <td>NaN</td>\n",
       "      <td>NaN</td>\n",
       "      <td>NaN</td>\n",
       "      <td>NaN</td>\n",
       "      <td>NaN</td>\n",
       "      <td>NaN</td>\n",
       "    </tr>\n",
       "    <tr>\n",
       "      <th>freq</th>\n",
       "      <td>NaN</td>\n",
       "      <td>NaN</td>\n",
       "      <td>6</td>\n",
       "      <td>185</td>\n",
       "      <td>168</td>\n",
       "      <td>115</td>\n",
       "      <td>96</td>\n",
       "      <td>120</td>\n",
       "      <td>202</td>\n",
       "      <td>NaN</td>\n",
       "      <td>...</td>\n",
       "      <td>NaN</td>\n",
       "      <td>94</td>\n",
       "      <td>NaN</td>\n",
       "      <td>NaN</td>\n",
       "      <td>NaN</td>\n",
       "      <td>NaN</td>\n",
       "      <td>NaN</td>\n",
       "      <td>NaN</td>\n",
       "      <td>NaN</td>\n",
       "      <td>NaN</td>\n",
       "    </tr>\n",
       "    <tr>\n",
       "      <th>mean</th>\n",
       "      <td>103.000000</td>\n",
       "      <td>0.834146</td>\n",
       "      <td>NaN</td>\n",
       "      <td>NaN</td>\n",
       "      <td>NaN</td>\n",
       "      <td>NaN</td>\n",
       "      <td>NaN</td>\n",
       "      <td>NaN</td>\n",
       "      <td>NaN</td>\n",
       "      <td>98.756585</td>\n",
       "      <td>...</td>\n",
       "      <td>126.907317</td>\n",
       "      <td>NaN</td>\n",
       "      <td>3.329756</td>\n",
       "      <td>3.255415</td>\n",
       "      <td>10.142537</td>\n",
       "      <td>104.117073</td>\n",
       "      <td>5125.121951</td>\n",
       "      <td>25.219512</td>\n",
       "      <td>30.751220</td>\n",
       "      <td>13276.710571</td>\n",
       "    </tr>\n",
       "    <tr>\n",
       "      <th>std</th>\n",
       "      <td>59.322565</td>\n",
       "      <td>1.245307</td>\n",
       "      <td>NaN</td>\n",
       "      <td>NaN</td>\n",
       "      <td>NaN</td>\n",
       "      <td>NaN</td>\n",
       "      <td>NaN</td>\n",
       "      <td>NaN</td>\n",
       "      <td>NaN</td>\n",
       "      <td>6.021776</td>\n",
       "      <td>...</td>\n",
       "      <td>41.642693</td>\n",
       "      <td>NaN</td>\n",
       "      <td>0.270844</td>\n",
       "      <td>0.313597</td>\n",
       "      <td>3.972040</td>\n",
       "      <td>39.544167</td>\n",
       "      <td>476.985643</td>\n",
       "      <td>6.542142</td>\n",
       "      <td>6.886443</td>\n",
       "      <td>7988.852332</td>\n",
       "    </tr>\n",
       "    <tr>\n",
       "      <th>min</th>\n",
       "      <td>1.000000</td>\n",
       "      <td>-2.000000</td>\n",
       "      <td>NaN</td>\n",
       "      <td>NaN</td>\n",
       "      <td>NaN</td>\n",
       "      <td>NaN</td>\n",
       "      <td>NaN</td>\n",
       "      <td>NaN</td>\n",
       "      <td>NaN</td>\n",
       "      <td>86.600000</td>\n",
       "      <td>...</td>\n",
       "      <td>61.000000</td>\n",
       "      <td>NaN</td>\n",
       "      <td>2.540000</td>\n",
       "      <td>2.070000</td>\n",
       "      <td>7.000000</td>\n",
       "      <td>48.000000</td>\n",
       "      <td>4150.000000</td>\n",
       "      <td>13.000000</td>\n",
       "      <td>16.000000</td>\n",
       "      <td>5118.000000</td>\n",
       "    </tr>\n",
       "    <tr>\n",
       "      <th>25%</th>\n",
       "      <td>52.000000</td>\n",
       "      <td>0.000000</td>\n",
       "      <td>NaN</td>\n",
       "      <td>NaN</td>\n",
       "      <td>NaN</td>\n",
       "      <td>NaN</td>\n",
       "      <td>NaN</td>\n",
       "      <td>NaN</td>\n",
       "      <td>NaN</td>\n",
       "      <td>94.500000</td>\n",
       "      <td>...</td>\n",
       "      <td>97.000000</td>\n",
       "      <td>NaN</td>\n",
       "      <td>3.150000</td>\n",
       "      <td>3.110000</td>\n",
       "      <td>8.600000</td>\n",
       "      <td>70.000000</td>\n",
       "      <td>4800.000000</td>\n",
       "      <td>19.000000</td>\n",
       "      <td>25.000000</td>\n",
       "      <td>7788.000000</td>\n",
       "    </tr>\n",
       "    <tr>\n",
       "      <th>50%</th>\n",
       "      <td>103.000000</td>\n",
       "      <td>1.000000</td>\n",
       "      <td>NaN</td>\n",
       "      <td>NaN</td>\n",
       "      <td>NaN</td>\n",
       "      <td>NaN</td>\n",
       "      <td>NaN</td>\n",
       "      <td>NaN</td>\n",
       "      <td>NaN</td>\n",
       "      <td>97.000000</td>\n",
       "      <td>...</td>\n",
       "      <td>120.000000</td>\n",
       "      <td>NaN</td>\n",
       "      <td>3.310000</td>\n",
       "      <td>3.290000</td>\n",
       "      <td>9.000000</td>\n",
       "      <td>95.000000</td>\n",
       "      <td>5200.000000</td>\n",
       "      <td>24.000000</td>\n",
       "      <td>30.000000</td>\n",
       "      <td>10295.000000</td>\n",
       "    </tr>\n",
       "    <tr>\n",
       "      <th>75%</th>\n",
       "      <td>154.000000</td>\n",
       "      <td>2.000000</td>\n",
       "      <td>NaN</td>\n",
       "      <td>NaN</td>\n",
       "      <td>NaN</td>\n",
       "      <td>NaN</td>\n",
       "      <td>NaN</td>\n",
       "      <td>NaN</td>\n",
       "      <td>NaN</td>\n",
       "      <td>102.400000</td>\n",
       "      <td>...</td>\n",
       "      <td>141.000000</td>\n",
       "      <td>NaN</td>\n",
       "      <td>3.580000</td>\n",
       "      <td>3.410000</td>\n",
       "      <td>9.400000</td>\n",
       "      <td>116.000000</td>\n",
       "      <td>5500.000000</td>\n",
       "      <td>30.000000</td>\n",
       "      <td>34.000000</td>\n",
       "      <td>16503.000000</td>\n",
       "    </tr>\n",
       "    <tr>\n",
       "      <th>max</th>\n",
       "      <td>205.000000</td>\n",
       "      <td>3.000000</td>\n",
       "      <td>NaN</td>\n",
       "      <td>NaN</td>\n",
       "      <td>NaN</td>\n",
       "      <td>NaN</td>\n",
       "      <td>NaN</td>\n",
       "      <td>NaN</td>\n",
       "      <td>NaN</td>\n",
       "      <td>120.900000</td>\n",
       "      <td>...</td>\n",
       "      <td>326.000000</td>\n",
       "      <td>NaN</td>\n",
       "      <td>3.940000</td>\n",
       "      <td>4.170000</td>\n",
       "      <td>23.000000</td>\n",
       "      <td>288.000000</td>\n",
       "      <td>6600.000000</td>\n",
       "      <td>49.000000</td>\n",
       "      <td>54.000000</td>\n",
       "      <td>45400.000000</td>\n",
       "    </tr>\n",
       "  </tbody>\n",
       "</table>\n",
       "<p>11 rows × 26 columns</p>\n",
       "</div>"
      ],
      "text/plain": [
       "            car_ID   symboling      CarName fueltype aspiration doornumber  \\\n",
       "count   205.000000  205.000000          205      205        205        205   \n",
       "unique         NaN         NaN          147        2          2          2   \n",
       "top            NaN         NaN  peugeot 504      gas        std       four   \n",
       "freq           NaN         NaN            6      185        168        115   \n",
       "mean    103.000000    0.834146          NaN      NaN        NaN        NaN   \n",
       "std      59.322565    1.245307          NaN      NaN        NaN        NaN   \n",
       "min       1.000000   -2.000000          NaN      NaN        NaN        NaN   \n",
       "25%      52.000000    0.000000          NaN      NaN        NaN        NaN   \n",
       "50%     103.000000    1.000000          NaN      NaN        NaN        NaN   \n",
       "75%     154.000000    2.000000          NaN      NaN        NaN        NaN   \n",
       "max     205.000000    3.000000          NaN      NaN        NaN        NaN   \n",
       "\n",
       "       carbody drivewheel enginelocation   wheelbase      ...       \\\n",
       "count      205        205            205  205.000000      ...        \n",
       "unique       5          3              2         NaN      ...        \n",
       "top      sedan        fwd          front         NaN      ...        \n",
       "freq        96        120            202         NaN      ...        \n",
       "mean       NaN        NaN            NaN   98.756585      ...        \n",
       "std        NaN        NaN            NaN    6.021776      ...        \n",
       "min        NaN        NaN            NaN   86.600000      ...        \n",
       "25%        NaN        NaN            NaN   94.500000      ...        \n",
       "50%        NaN        NaN            NaN   97.000000      ...        \n",
       "75%        NaN        NaN            NaN  102.400000      ...        \n",
       "max        NaN        NaN            NaN  120.900000      ...        \n",
       "\n",
       "        enginesize  fuelsystem   boreratio      stroke compressionratio  \\\n",
       "count   205.000000         205  205.000000  205.000000       205.000000   \n",
       "unique         NaN           8         NaN         NaN              NaN   \n",
       "top            NaN        mpfi         NaN         NaN              NaN   \n",
       "freq           NaN          94         NaN         NaN              NaN   \n",
       "mean    126.907317         NaN    3.329756    3.255415        10.142537   \n",
       "std      41.642693         NaN    0.270844    0.313597         3.972040   \n",
       "min      61.000000         NaN    2.540000    2.070000         7.000000   \n",
       "25%      97.000000         NaN    3.150000    3.110000         8.600000   \n",
       "50%     120.000000         NaN    3.310000    3.290000         9.000000   \n",
       "75%     141.000000         NaN    3.580000    3.410000         9.400000   \n",
       "max     326.000000         NaN    3.940000    4.170000        23.000000   \n",
       "\n",
       "        horsepower      peakrpm     citympg  highwaympg         price  \n",
       "count   205.000000   205.000000  205.000000  205.000000    205.000000  \n",
       "unique         NaN          NaN         NaN         NaN           NaN  \n",
       "top            NaN          NaN         NaN         NaN           NaN  \n",
       "freq           NaN          NaN         NaN         NaN           NaN  \n",
       "mean    104.117073  5125.121951   25.219512   30.751220  13276.710571  \n",
       "std      39.544167   476.985643    6.542142    6.886443   7988.852332  \n",
       "min      48.000000  4150.000000   13.000000   16.000000   5118.000000  \n",
       "25%      70.000000  4800.000000   19.000000   25.000000   7788.000000  \n",
       "50%      95.000000  5200.000000   24.000000   30.000000  10295.000000  \n",
       "75%     116.000000  5500.000000   30.000000   34.000000  16503.000000  \n",
       "max     288.000000  6600.000000   49.000000   54.000000  45400.000000  \n",
       "\n",
       "[11 rows x 26 columns]"
      ]
     },
     "execution_count": 8,
     "metadata": {},
     "output_type": "execute_result"
    }
   ],
   "source": [
    "#treating the values with 2 unique values using map, for others will use dummy columns\n",
    "automobile.describe(include='all')"
   ]
  },
  {
   "cell_type": "code",
   "execution_count": 9,
   "metadata": {},
   "outputs": [
    {
     "data": {
      "text/plain": [
       "array(['convertible', 'hatchback', 'sedan', 'wagon', 'hardtop'], dtype=object)"
      ]
     },
     "execution_count": 9,
     "metadata": {},
     "output_type": "execute_result"
    }
   ],
   "source": [
    "#Checking out unique values in the  columns\n",
    "automobile.carbody.unique()"
   ]
  },
  {
   "cell_type": "code",
   "execution_count": 10,
   "metadata": {},
   "outputs": [
    {
     "data": {
      "text/plain": [
       "array([ 3,  1,  2,  0, -1, -2], dtype=int64)"
      ]
     },
     "execution_count": 10,
     "metadata": {},
     "output_type": "execute_result"
    }
   ],
   "source": [
    "automobile.symboling.unique()"
   ]
  },
  {
   "cell_type": "code",
   "execution_count": 11,
   "metadata": {
    "collapsed": true
   },
   "outputs": [],
   "source": [
    "#creating a map for variables with only 2 unique values \n",
    "automobile['fueltype'] = automobile['fueltype'].map({'gas': 0, 'diesel': 1})\n",
    "automobile['aspiration'] = automobile['aspiration'].map({'std': 0, 'turbo': 1})\n",
    "automobile['doornumber']= automobile['doornumber'].map({'two': 0, 'four': 1})\n",
    "automobile['enginelocation'] = automobile['enginelocation'].map({'front': 0, 'rear': 1})\n",
    "automobile['carbrand'] = automobile['CarName'].apply(lambda x:x.split(' ')[0])\n",
    "\n",
    "#Ensuring there are no duplicate values due to different cases\n",
    "automobile['carbrand'] = automobile['carbrand'].str.lower()\n",
    "\n",
    "#Creating dummy for symboling - considering the values > 0 as risky(1) else safe (0)\n",
    "automobile['symboling'] = automobile['symboling'].apply(lambda x:1 if (x > 0) else 0)\n",
    "\n",
    "# Creating dummy variable for variable carBrand and others and dropping the first one\n",
    "automobile = pd.concat([automobile.drop('carbrand', axis=1), pd.get_dummies(automobile['carbrand'],prefix='carbrand',drop_first=True)], axis=1)\n",
    "automobile = pd.concat([automobile.drop('carbody', axis=1), pd.get_dummies(automobile['carbody'],prefix='carbody',drop_first=True)], axis=1)\n",
    "automobile = pd.concat([automobile.drop('drivewheel', axis=1), pd.get_dummies(automobile['drivewheel'],prefix='drivewheel',drop_first=True)], axis=1)\n",
    "automobile = pd.concat([automobile.drop('enginetype', axis=1), pd.get_dummies(automobile['enginetype'],prefix='enginetype',drop_first=True)], axis=1)\n",
    "automobile = pd.concat([automobile.drop('fuelsystem', axis=1), pd.get_dummies(automobile['fuelsystem'],prefix='fuelsystem',drop_first=True)], axis=1)\n",
    "automobile = pd.concat([automobile.drop('cylindernumber', axis=1), pd.get_dummies(automobile['cylindernumber'],prefix='cylindernumber',drop_first=True)], axis=1)\n",
    "\n",
    "# Dropping the unneeded columns\n",
    "automobile.drop(['CarName'],axis=1,inplace=True)\n",
    "automobile.drop(['car_ID'],axis=1,inplace=True)"
   ]
  },
  {
   "cell_type": "code",
   "execution_count": 12,
   "metadata": {},
   "outputs": [
    {
     "data": {
      "text/plain": [
       "(205, 70)"
      ]
     },
     "execution_count": 12,
     "metadata": {},
     "output_type": "execute_result"
    }
   ],
   "source": [
    "#Check the number of columns in the automobile set now\n",
    "automobile.shape"
   ]
  },
  {
   "cell_type": "code",
   "execution_count": 13,
   "metadata": {},
   "outputs": [
    {
     "data": {
      "text/html": [
       "<div>\n",
       "<style>\n",
       "    .dataframe thead tr:only-child th {\n",
       "        text-align: right;\n",
       "    }\n",
       "\n",
       "    .dataframe thead th {\n",
       "        text-align: left;\n",
       "    }\n",
       "\n",
       "    .dataframe tbody tr th {\n",
       "        vertical-align: top;\n",
       "    }\n",
       "</style>\n",
       "<table border=\"1\" class=\"dataframe\">\n",
       "  <thead>\n",
       "    <tr style=\"text-align: right;\">\n",
       "      <th></th>\n",
       "      <th>symboling</th>\n",
       "      <th>fueltype</th>\n",
       "      <th>aspiration</th>\n",
       "      <th>doornumber</th>\n",
       "      <th>enginelocation</th>\n",
       "      <th>wheelbase</th>\n",
       "      <th>carlength</th>\n",
       "      <th>carwidth</th>\n",
       "      <th>carheight</th>\n",
       "      <th>curbweight</th>\n",
       "      <th>...</th>\n",
       "      <th>fuelsystem_mfi</th>\n",
       "      <th>fuelsystem_mpfi</th>\n",
       "      <th>fuelsystem_spdi</th>\n",
       "      <th>fuelsystem_spfi</th>\n",
       "      <th>cylindernumber_five</th>\n",
       "      <th>cylindernumber_four</th>\n",
       "      <th>cylindernumber_six</th>\n",
       "      <th>cylindernumber_three</th>\n",
       "      <th>cylindernumber_twelve</th>\n",
       "      <th>cylindernumber_two</th>\n",
       "    </tr>\n",
       "  </thead>\n",
       "  <tbody>\n",
       "    <tr>\n",
       "      <th>0</th>\n",
       "      <td>1</td>\n",
       "      <td>0</td>\n",
       "      <td>0</td>\n",
       "      <td>0</td>\n",
       "      <td>0</td>\n",
       "      <td>88.6</td>\n",
       "      <td>168.8</td>\n",
       "      <td>64.1</td>\n",
       "      <td>48.8</td>\n",
       "      <td>2548</td>\n",
       "      <td>...</td>\n",
       "      <td>0</td>\n",
       "      <td>1</td>\n",
       "      <td>0</td>\n",
       "      <td>0</td>\n",
       "      <td>0</td>\n",
       "      <td>1</td>\n",
       "      <td>0</td>\n",
       "      <td>0</td>\n",
       "      <td>0</td>\n",
       "      <td>0</td>\n",
       "    </tr>\n",
       "    <tr>\n",
       "      <th>1</th>\n",
       "      <td>1</td>\n",
       "      <td>0</td>\n",
       "      <td>0</td>\n",
       "      <td>0</td>\n",
       "      <td>0</td>\n",
       "      <td>88.6</td>\n",
       "      <td>168.8</td>\n",
       "      <td>64.1</td>\n",
       "      <td>48.8</td>\n",
       "      <td>2548</td>\n",
       "      <td>...</td>\n",
       "      <td>0</td>\n",
       "      <td>1</td>\n",
       "      <td>0</td>\n",
       "      <td>0</td>\n",
       "      <td>0</td>\n",
       "      <td>1</td>\n",
       "      <td>0</td>\n",
       "      <td>0</td>\n",
       "      <td>0</td>\n",
       "      <td>0</td>\n",
       "    </tr>\n",
       "    <tr>\n",
       "      <th>2</th>\n",
       "      <td>1</td>\n",
       "      <td>0</td>\n",
       "      <td>0</td>\n",
       "      <td>0</td>\n",
       "      <td>0</td>\n",
       "      <td>94.5</td>\n",
       "      <td>171.2</td>\n",
       "      <td>65.5</td>\n",
       "      <td>52.4</td>\n",
       "      <td>2823</td>\n",
       "      <td>...</td>\n",
       "      <td>0</td>\n",
       "      <td>1</td>\n",
       "      <td>0</td>\n",
       "      <td>0</td>\n",
       "      <td>0</td>\n",
       "      <td>0</td>\n",
       "      <td>1</td>\n",
       "      <td>0</td>\n",
       "      <td>0</td>\n",
       "      <td>0</td>\n",
       "    </tr>\n",
       "    <tr>\n",
       "      <th>3</th>\n",
       "      <td>1</td>\n",
       "      <td>0</td>\n",
       "      <td>0</td>\n",
       "      <td>1</td>\n",
       "      <td>0</td>\n",
       "      <td>99.8</td>\n",
       "      <td>176.6</td>\n",
       "      <td>66.2</td>\n",
       "      <td>54.3</td>\n",
       "      <td>2337</td>\n",
       "      <td>...</td>\n",
       "      <td>0</td>\n",
       "      <td>1</td>\n",
       "      <td>0</td>\n",
       "      <td>0</td>\n",
       "      <td>0</td>\n",
       "      <td>1</td>\n",
       "      <td>0</td>\n",
       "      <td>0</td>\n",
       "      <td>0</td>\n",
       "      <td>0</td>\n",
       "    </tr>\n",
       "    <tr>\n",
       "      <th>4</th>\n",
       "      <td>1</td>\n",
       "      <td>0</td>\n",
       "      <td>0</td>\n",
       "      <td>1</td>\n",
       "      <td>0</td>\n",
       "      <td>99.4</td>\n",
       "      <td>176.6</td>\n",
       "      <td>66.4</td>\n",
       "      <td>54.3</td>\n",
       "      <td>2824</td>\n",
       "      <td>...</td>\n",
       "      <td>0</td>\n",
       "      <td>1</td>\n",
       "      <td>0</td>\n",
       "      <td>0</td>\n",
       "      <td>1</td>\n",
       "      <td>0</td>\n",
       "      <td>0</td>\n",
       "      <td>0</td>\n",
       "      <td>0</td>\n",
       "      <td>0</td>\n",
       "    </tr>\n",
       "  </tbody>\n",
       "</table>\n",
       "<p>5 rows × 70 columns</p>\n",
       "</div>"
      ],
      "text/plain": [
       "   symboling  fueltype  aspiration  doornumber  enginelocation  wheelbase  \\\n",
       "0          1         0           0           0               0       88.6   \n",
       "1          1         0           0           0               0       88.6   \n",
       "2          1         0           0           0               0       94.5   \n",
       "3          1         0           0           1               0       99.8   \n",
       "4          1         0           0           1               0       99.4   \n",
       "\n",
       "   carlength  carwidth  carheight  curbweight         ...          \\\n",
       "0      168.8      64.1       48.8        2548         ...           \n",
       "1      168.8      64.1       48.8        2548         ...           \n",
       "2      171.2      65.5       52.4        2823         ...           \n",
       "3      176.6      66.2       54.3        2337         ...           \n",
       "4      176.6      66.4       54.3        2824         ...           \n",
       "\n",
       "   fuelsystem_mfi  fuelsystem_mpfi  fuelsystem_spdi  fuelsystem_spfi  \\\n",
       "0               0                1                0                0   \n",
       "1               0                1                0                0   \n",
       "2               0                1                0                0   \n",
       "3               0                1                0                0   \n",
       "4               0                1                0                0   \n",
       "\n",
       "   cylindernumber_five  cylindernumber_four  cylindernumber_six  \\\n",
       "0                    0                    1                   0   \n",
       "1                    0                    1                   0   \n",
       "2                    0                    0                   1   \n",
       "3                    0                    1                   0   \n",
       "4                    1                    0                   0   \n",
       "\n",
       "   cylindernumber_three  cylindernumber_twelve  cylindernumber_two  \n",
       "0                     0                      0                   0  \n",
       "1                     0                      0                   0  \n",
       "2                     0                      0                   0  \n",
       "3                     0                      0                   0  \n",
       "4                     0                      0                   0  \n",
       "\n",
       "[5 rows x 70 columns]"
      ]
     },
     "execution_count": 13,
     "metadata": {},
     "output_type": "execute_result"
    }
   ],
   "source": [
    "automobile.head()"
   ]
  },
  {
   "cell_type": "code",
   "execution_count": 14,
   "metadata": {
    "collapsed": true
   },
   "outputs": [],
   "source": [
    "#defining a normalisation function \n",
    "def normalize (x): \n",
    "    return ( (x-np.mean(x))/ (max(x) - min(x)))\n",
    "                                            \n",
    "                                              \n",
    "# applying normalize ( ) to all columns \n",
    "automobile = automobile.apply(normalize)"
   ]
  },
  {
   "cell_type": "code",
   "execution_count": 15,
   "metadata": {},
   "outputs": [
    {
     "data": {
      "text/html": [
       "<div>\n",
       "<style>\n",
       "    .dataframe thead tr:only-child th {\n",
       "        text-align: right;\n",
       "    }\n",
       "\n",
       "    .dataframe thead th {\n",
       "        text-align: left;\n",
       "    }\n",
       "\n",
       "    .dataframe tbody tr th {\n",
       "        vertical-align: top;\n",
       "    }\n",
       "</style>\n",
       "<table border=\"1\" class=\"dataframe\">\n",
       "  <thead>\n",
       "    <tr style=\"text-align: right;\">\n",
       "      <th></th>\n",
       "      <th>symboling</th>\n",
       "      <th>fueltype</th>\n",
       "      <th>aspiration</th>\n",
       "      <th>doornumber</th>\n",
       "      <th>enginelocation</th>\n",
       "      <th>wheelbase</th>\n",
       "      <th>carlength</th>\n",
       "      <th>carwidth</th>\n",
       "      <th>carheight</th>\n",
       "      <th>curbweight</th>\n",
       "      <th>...</th>\n",
       "      <th>fuelsystem_mfi</th>\n",
       "      <th>fuelsystem_mpfi</th>\n",
       "      <th>fuelsystem_spdi</th>\n",
       "      <th>fuelsystem_spfi</th>\n",
       "      <th>cylindernumber_five</th>\n",
       "      <th>cylindernumber_four</th>\n",
       "      <th>cylindernumber_six</th>\n",
       "      <th>cylindernumber_three</th>\n",
       "      <th>cylindernumber_twelve</th>\n",
       "      <th>cylindernumber_two</th>\n",
       "    </tr>\n",
       "  </thead>\n",
       "  <tbody>\n",
       "    <tr>\n",
       "      <th>0</th>\n",
       "      <td>0.44878</td>\n",
       "      <td>-0.097561</td>\n",
       "      <td>-0.180488</td>\n",
       "      <td>-0.560976</td>\n",
       "      <td>-0.014634</td>\n",
       "      <td>-0.296110</td>\n",
       "      <td>-0.078347</td>\n",
       "      <td>-0.150650</td>\n",
       "      <td>-0.410407</td>\n",
       "      <td>-0.002935</td>\n",
       "      <td>...</td>\n",
       "      <td>-0.004878</td>\n",
       "      <td>0.541463</td>\n",
       "      <td>-0.043902</td>\n",
       "      <td>-0.004878</td>\n",
       "      <td>-0.053659</td>\n",
       "      <td>0.22439</td>\n",
       "      <td>-0.117073</td>\n",
       "      <td>-0.004878</td>\n",
       "      <td>-0.004878</td>\n",
       "      <td>-0.019512</td>\n",
       "    </tr>\n",
       "    <tr>\n",
       "      <th>1</th>\n",
       "      <td>0.44878</td>\n",
       "      <td>-0.097561</td>\n",
       "      <td>-0.180488</td>\n",
       "      <td>-0.560976</td>\n",
       "      <td>-0.014634</td>\n",
       "      <td>-0.296110</td>\n",
       "      <td>-0.078347</td>\n",
       "      <td>-0.150650</td>\n",
       "      <td>-0.410407</td>\n",
       "      <td>-0.002935</td>\n",
       "      <td>...</td>\n",
       "      <td>-0.004878</td>\n",
       "      <td>0.541463</td>\n",
       "      <td>-0.043902</td>\n",
       "      <td>-0.004878</td>\n",
       "      <td>-0.053659</td>\n",
       "      <td>0.22439</td>\n",
       "      <td>-0.117073</td>\n",
       "      <td>-0.004878</td>\n",
       "      <td>-0.004878</td>\n",
       "      <td>-0.019512</td>\n",
       "    </tr>\n",
       "    <tr>\n",
       "      <th>2</th>\n",
       "      <td>0.44878</td>\n",
       "      <td>-0.097561</td>\n",
       "      <td>-0.180488</td>\n",
       "      <td>-0.560976</td>\n",
       "      <td>-0.014634</td>\n",
       "      <td>-0.124099</td>\n",
       "      <td>-0.042526</td>\n",
       "      <td>-0.033984</td>\n",
       "      <td>-0.110407</td>\n",
       "      <td>0.103737</td>\n",
       "      <td>...</td>\n",
       "      <td>-0.004878</td>\n",
       "      <td>0.541463</td>\n",
       "      <td>-0.043902</td>\n",
       "      <td>-0.004878</td>\n",
       "      <td>-0.053659</td>\n",
       "      <td>-0.77561</td>\n",
       "      <td>0.882927</td>\n",
       "      <td>-0.004878</td>\n",
       "      <td>-0.004878</td>\n",
       "      <td>-0.019512</td>\n",
       "    </tr>\n",
       "    <tr>\n",
       "      <th>3</th>\n",
       "      <td>0.44878</td>\n",
       "      <td>-0.097561</td>\n",
       "      <td>-0.180488</td>\n",
       "      <td>0.439024</td>\n",
       "      <td>-0.014634</td>\n",
       "      <td>0.030420</td>\n",
       "      <td>0.038071</td>\n",
       "      <td>0.024350</td>\n",
       "      <td>0.047927</td>\n",
       "      <td>-0.084781</td>\n",
       "      <td>...</td>\n",
       "      <td>-0.004878</td>\n",
       "      <td>0.541463</td>\n",
       "      <td>-0.043902</td>\n",
       "      <td>-0.004878</td>\n",
       "      <td>-0.053659</td>\n",
       "      <td>0.22439</td>\n",
       "      <td>-0.117073</td>\n",
       "      <td>-0.004878</td>\n",
       "      <td>-0.004878</td>\n",
       "      <td>-0.019512</td>\n",
       "    </tr>\n",
       "    <tr>\n",
       "      <th>4</th>\n",
       "      <td>0.44878</td>\n",
       "      <td>-0.097561</td>\n",
       "      <td>-0.180488</td>\n",
       "      <td>0.439024</td>\n",
       "      <td>-0.014634</td>\n",
       "      <td>0.018758</td>\n",
       "      <td>0.038071</td>\n",
       "      <td>0.041016</td>\n",
       "      <td>0.047927</td>\n",
       "      <td>0.104125</td>\n",
       "      <td>...</td>\n",
       "      <td>-0.004878</td>\n",
       "      <td>0.541463</td>\n",
       "      <td>-0.043902</td>\n",
       "      <td>-0.004878</td>\n",
       "      <td>0.946341</td>\n",
       "      <td>-0.77561</td>\n",
       "      <td>-0.117073</td>\n",
       "      <td>-0.004878</td>\n",
       "      <td>-0.004878</td>\n",
       "      <td>-0.019512</td>\n",
       "    </tr>\n",
       "  </tbody>\n",
       "</table>\n",
       "<p>5 rows × 70 columns</p>\n",
       "</div>"
      ],
      "text/plain": [
       "   symboling  fueltype  aspiration  doornumber  enginelocation  wheelbase  \\\n",
       "0    0.44878 -0.097561   -0.180488   -0.560976       -0.014634  -0.296110   \n",
       "1    0.44878 -0.097561   -0.180488   -0.560976       -0.014634  -0.296110   \n",
       "2    0.44878 -0.097561   -0.180488   -0.560976       -0.014634  -0.124099   \n",
       "3    0.44878 -0.097561   -0.180488    0.439024       -0.014634   0.030420   \n",
       "4    0.44878 -0.097561   -0.180488    0.439024       -0.014634   0.018758   \n",
       "\n",
       "   carlength  carwidth  carheight  curbweight         ...          \\\n",
       "0  -0.078347 -0.150650  -0.410407   -0.002935         ...           \n",
       "1  -0.078347 -0.150650  -0.410407   -0.002935         ...           \n",
       "2  -0.042526 -0.033984  -0.110407    0.103737         ...           \n",
       "3   0.038071  0.024350   0.047927   -0.084781         ...           \n",
       "4   0.038071  0.041016   0.047927    0.104125         ...           \n",
       "\n",
       "   fuelsystem_mfi  fuelsystem_mpfi  fuelsystem_spdi  fuelsystem_spfi  \\\n",
       "0       -0.004878         0.541463        -0.043902        -0.004878   \n",
       "1       -0.004878         0.541463        -0.043902        -0.004878   \n",
       "2       -0.004878         0.541463        -0.043902        -0.004878   \n",
       "3       -0.004878         0.541463        -0.043902        -0.004878   \n",
       "4       -0.004878         0.541463        -0.043902        -0.004878   \n",
       "\n",
       "   cylindernumber_five  cylindernumber_four  cylindernumber_six  \\\n",
       "0            -0.053659              0.22439           -0.117073   \n",
       "1            -0.053659              0.22439           -0.117073   \n",
       "2            -0.053659             -0.77561            0.882927   \n",
       "3            -0.053659              0.22439           -0.117073   \n",
       "4             0.946341             -0.77561           -0.117073   \n",
       "\n",
       "   cylindernumber_three  cylindernumber_twelve  cylindernumber_two  \n",
       "0             -0.004878              -0.004878           -0.019512  \n",
       "1             -0.004878              -0.004878           -0.019512  \n",
       "2             -0.004878              -0.004878           -0.019512  \n",
       "3             -0.004878              -0.004878           -0.019512  \n",
       "4             -0.004878              -0.004878           -0.019512  \n",
       "\n",
       "[5 rows x 70 columns]"
      ]
     },
     "execution_count": 15,
     "metadata": {},
     "output_type": "execute_result"
    }
   ],
   "source": [
    "automobile.head()"
   ]
  },
  {
   "cell_type": "markdown",
   "metadata": {},
   "source": [
    "# Splitting data into training and testing sets"
   ]
  },
  {
   "cell_type": "code",
   "execution_count": 16,
   "metadata": {},
   "outputs": [
    {
     "name": "stdout",
     "output_type": "stream",
     "text": [
      "['symboling', 'fueltype', 'aspiration', 'doornumber', 'enginelocation', 'wheelbase', 'carlength', 'carwidth', 'carheight', 'curbweight', 'enginesize', 'boreratio', 'stroke', 'compressionratio', 'horsepower', 'peakrpm', 'citympg', 'highwaympg', 'price', 'carbrand_audi', 'carbrand_bmw', 'carbrand_buick', 'carbrand_chevrolet', 'carbrand_dodge', 'carbrand_honda', 'carbrand_isuzu', 'carbrand_jaguar', 'carbrand_maxda', 'carbrand_mazda', 'carbrand_mercury', 'carbrand_mitsubishi', 'carbrand_nissan', 'carbrand_peugeot', 'carbrand_plymouth', 'carbrand_porcshce', 'carbrand_porsche', 'carbrand_renault', 'carbrand_saab', 'carbrand_subaru', 'carbrand_toyota', 'carbrand_toyouta', 'carbrand_vokswagen', 'carbrand_volkswagen', 'carbrand_volvo', 'carbrand_vw', 'carbody_hardtop', 'carbody_hatchback', 'carbody_sedan', 'carbody_wagon', 'drivewheel_fwd', 'drivewheel_rwd', 'enginetype_dohcv', 'enginetype_l', 'enginetype_ohc', 'enginetype_ohcf', 'enginetype_ohcv', 'enginetype_rotor', 'fuelsystem_2bbl', 'fuelsystem_4bbl', 'fuelsystem_idi', 'fuelsystem_mfi', 'fuelsystem_mpfi', 'fuelsystem_spdi', 'fuelsystem_spfi', 'cylindernumber_five', 'cylindernumber_four', 'cylindernumber_six', 'cylindernumber_three', 'cylindernumber_twelve', 'cylindernumber_two']\n",
      "(205, 70)\n"
     ]
    }
   ],
   "source": [
    "print(list(automobile))\n",
    "print(automobile.shape)"
   ]
  },
  {
   "cell_type": "code",
   "execution_count": 17,
   "metadata": {
    "collapsed": true
   },
   "outputs": [],
   "source": [
    "# Putting feature variable to X\n",
    "X = automobile[['symboling', 'fueltype', 'aspiration', 'doornumber', 'enginelocation', 'wheelbase', 'carlength', \n",
    "                'carwidth', 'carheight', 'curbweight', 'enginesize', 'boreratio', 'stroke', 'compressionratio', \n",
    "                'horsepower', 'peakrpm', 'citympg', 'highwaympg', 'carbrand_audi', 'carbrand_bmw', \n",
    "                'carbrand_buick', 'carbrand_chevrolet', 'carbrand_dodge', 'carbrand_honda', 'carbrand_isuzu', \n",
    "                'carbrand_jaguar', 'carbrand_maxda', 'carbrand_mazda', 'carbrand_mercury', 'carbrand_mitsubishi', \n",
    "                'carbrand_nissan', 'carbrand_peugeot', 'carbrand_plymouth', 'carbrand_porcshce', 'carbrand_porsche', \n",
    "                'carbrand_renault', 'carbrand_saab', 'carbrand_subaru', 'carbrand_toyota', 'carbrand_toyouta', \n",
    "                'carbrand_vokswagen', 'carbrand_volkswagen', 'carbrand_volvo', 'carbrand_vw', 'carbody_hardtop', \n",
    "                'carbody_hatchback', 'carbody_sedan', 'carbody_wagon', 'drivewheel_fwd', 'drivewheel_rwd', \n",
    "                'enginetype_dohcv', 'enginetype_l', 'enginetype_ohc', 'enginetype_ohcf', 'enginetype_ohcv', \n",
    "                'enginetype_rotor', 'fuelsystem_2bbl', 'fuelsystem_4bbl', 'fuelsystem_idi', 'fuelsystem_mfi', \n",
    "                'fuelsystem_mpfi', 'fuelsystem_spdi', 'fuelsystem_spfi', 'cylindernumber_five', \n",
    "                'cylindernumber_four', 'cylindernumber_six', 'cylindernumber_three', 'cylindernumber_twelve', \n",
    "                'cylindernumber_two']]\n",
    "\n",
    "# Putting response variable to y\n",
    "y = automobile['price']"
   ]
  },
  {
   "cell_type": "code",
   "execution_count": 18,
   "metadata": {
    "collapsed": true
   },
   "outputs": [],
   "source": [
    "#Splitting the dataset into test and training dataset\n",
    "X_train, X_test, y_train, y_test = train_test_split(X, y, train_size=0.7 ,test_size = 0.3, random_state=100)"
   ]
  },
  {
   "cell_type": "markdown",
   "metadata": {},
   "source": [
    "# RFE and modeling"
   ]
  },
  {
   "cell_type": "code",
   "execution_count": 154,
   "metadata": {},
   "outputs": [
    {
     "name": "stdout",
     "output_type": "stream",
     "text": [
      "[False False False False  True False False  True False  True  True  True\n",
      "  True False False False False False False  True False False False False\n",
      " False False False False False False False  True False False  True False\n",
      " False False False False False False False False False False False False\n",
      " False False False False False False False  True False False False False\n",
      " False False False  True  True False  True  True  True]\n",
      "[44 19  9 39  1 12 16  1 13  1  1  1  1 21 10 11 32 22 30  1 31 18 15 17 45\n",
      " 23 49 52 53  8 40  1 14 42  1 33  4  6 48 38 41 43  3 37 26 25 27 28 51 36\n",
      "  7  2 47  5 34  1 29 35 20 54 50 46 55  1  1 24  1  1  1]\n"
     ]
    }
   ],
   "source": [
    "# Running RFE with the output number of the variable equal to 15\n",
    "## Started with 50 and went down as low as 5 to check what should be a good starting point\n",
    "lm = LinearRegression()\n",
    "rfe = RFE(lm, 15)             # running RFE\n",
    "rfe = rfe.fit(X_train, y_train)\n",
    "print(rfe.support_)           # Printing the boolean results\n",
    "print(rfe.ranking_)  "
   ]
  },
  {
   "cell_type": "code",
   "execution_count": 155,
   "metadata": {},
   "outputs": [
    {
     "name": "stdout",
     "output_type": "stream",
     "text": [
      "Index(['enginelocation', 'carwidth', 'curbweight', 'enginesize', 'boreratio',\n",
      "       'stroke', 'carbrand_bmw', 'carbrand_peugeot', 'carbrand_porsche',\n",
      "       'enginetype_rotor', 'cylindernumber_five', 'cylindernumber_four',\n",
      "       'cylindernumber_three', 'cylindernumber_twelve', 'cylindernumber_two'],\n",
      "      dtype='object')\n"
     ]
    }
   ],
   "source": [
    "col = X_train.columns[rfe.support_]\n",
    "print(col)"
   ]
  },
  {
   "cell_type": "code",
   "execution_count": 156,
   "metadata": {},
   "outputs": [
    {
     "name": "stdout",
     "output_type": "stream",
     "text": [
      "Index(['enginelocation', 'carwidth', 'curbweight', 'enginesize', 'boreratio',\n",
      "       'stroke', 'carbrand_bmw', 'carbrand_peugeot', 'carbrand_porsche',\n",
      "       'enginetype_rotor', 'cylindernumber_five', 'cylindernumber_four',\n",
      "       'cylindernumber_three', 'cylindernumber_twelve', 'cylindernumber_two'],\n",
      "      dtype='object')\n"
     ]
    }
   ],
   "source": [
    "# This was the output when output og variable was limited to 5\n",
    "col = X_train.columns[rfe.support_]\n",
    "print(col)"
   ]
  },
  {
   "cell_type": "code",
   "execution_count": 157,
   "metadata": {},
   "outputs": [
    {
     "name": "stdout",
     "output_type": "stream",
     "text": [
      "                            OLS Regression Results                            \n",
      "==============================================================================\n",
      "Dep. Variable:                  price   R-squared:                       0.939\n",
      "Model:                            OLS   Adj. R-squared:                  0.933\n",
      "Method:                 Least Squares   F-statistic:                     141.8\n",
      "Date:                Tue, 19 Jun 2018   Prob (F-statistic):           1.03e-70\n",
      "Time:                        23:06:05   Log-Likelihood:                 232.74\n",
      "No. Observations:                 143   AIC:                            -435.5\n",
      "Df Residuals:                     128   BIC:                            -391.0\n",
      "Df Model:                          14                                         \n",
      "Covariance Type:            nonrobust                                         \n",
      "=========================================================================================\n",
      "                            coef    std err          t      P>|t|      [0.025      0.975]\n",
      "-----------------------------------------------------------------------------------------\n",
      "const                     0.0039      0.004      0.901      0.369      -0.005       0.013\n",
      "enginelocation            0.3151      0.067      4.700      0.000       0.182       0.448\n",
      "carwidth                  0.3119      0.056      5.548      0.000       0.201       0.423\n",
      "curbweight                0.3401      0.067      5.048      0.000       0.207       0.473\n",
      "enginesize                1.1118      0.143      7.786      0.000       0.829       1.394\n",
      "boreratio                -0.3576      0.054     -6.662      0.000      -0.464      -0.251\n",
      "stroke                   -0.2515      0.044     -5.666      0.000      -0.339      -0.164\n",
      "carbrand_bmw              0.2535      0.024     10.632      0.000       0.206       0.301\n",
      "carbrand_peugeot         -0.0981      0.024     -4.115      0.000      -0.145      -0.051\n",
      "carbrand_porsche          0.1599      0.040      3.965      0.000       0.080       0.240\n",
      "enginetype_rotor          0.2141      0.030      7.193      0.000       0.155       0.273\n",
      "cylindernumber_five       0.1421      0.029      4.819      0.000       0.084       0.200\n",
      "cylindernumber_four       0.2030      0.035      5.819      0.000       0.134       0.272\n",
      "cylindernumber_three      0.4091      0.067      6.095      0.000       0.276       0.542\n",
      "cylindernumber_twelve    -0.4008      0.088     -4.553      0.000      -0.575      -0.227\n",
      "cylindernumber_two        0.2141      0.030      7.193      0.000       0.155       0.273\n",
      "==============================================================================\n",
      "Omnibus:                       22.727   Durbin-Watson:                   1.862\n",
      "Prob(Omnibus):                  0.000   Jarque-Bera (JB):               38.186\n",
      "Skew:                           0.769   Prob(JB):                     5.10e-09\n",
      "Kurtosis:                       5.011   Cond. No.                     4.13e+17\n",
      "==============================================================================\n",
      "\n",
      "Warnings:\n",
      "[1] Standard Errors assume that the covariance matrix of the errors is correctly specified.\n",
      "[2] The smallest eigenvalue is 8.4e-34. This might indicate that there are\n",
      "strong multicollinearity problems or that the design matrix is singular.\n"
     ]
    }
   ],
   "source": [
    "#creating a dataframe with rfe selected columns\n",
    "X_train_rfe = X_train[col]\n",
    "X_train_rfe = sm.add_constant(X_train_rfe)\n",
    "lm = sm.OLS(y_train,X_train_rfe).fit()   # Running the linear model\n",
    "#Let's see the summary of our linear model\n",
    "print(lm.summary())"
   ]
  },
  {
   "cell_type": "code",
   "execution_count": 158,
   "metadata": {},
   "outputs": [
    {
     "data": {
      "text/plain": [
       "const                     1.069230\n",
       "enginelocation            1.768697\n",
       "carwidth                  6.055029\n",
       "curbweight               11.403627\n",
       "enginesize               27.428606\n",
       "boreratio                 5.633860\n",
       "stroke                    2.456853\n",
       "carbrand_bmw              1.295085\n",
       "carbrand_peugeot          1.699840\n",
       "carbrand_porsche          1.892780\n",
       "enginetype_rotor               inf\n",
       "cylindernumber_five       2.905394\n",
       "cylindernumber_four      13.228243\n",
       "cylindernumber_three      1.772666\n",
       "cylindernumber_twelve     3.049444\n",
       "cylindernumber_two             inf\n",
       "dtype: float64"
      ]
     },
     "execution_count": 158,
     "metadata": {},
     "output_type": "execute_result"
    }
   ],
   "source": [
    "#checking VIF\n",
    "from statsmodels.stats.outliers_influence import variance_inflation_factor\n",
    "\n",
    "pd.Series([variance_inflation_factor(X_train_rfe.values, i) \n",
    "               for i in range(X_train_rfe.shape[1])], \n",
    "              index=X_train_rfe.columns)\n"
   ]
  },
  {
   "cell_type": "code",
   "execution_count": 159,
   "metadata": {
    "collapsed": true
   },
   "outputs": [],
   "source": [
    "#P value is 0 for all, removing the high vif variables\n",
    "X_train_rfe.drop(['enginetype_rotor'],axis=1,inplace=True)"
   ]
  },
  {
   "cell_type": "code",
   "execution_count": 160,
   "metadata": {},
   "outputs": [
    {
     "name": "stdout",
     "output_type": "stream",
     "text": [
      "                            OLS Regression Results                            \n",
      "==============================================================================\n",
      "Dep. Variable:                  price   R-squared:                       0.939\n",
      "Model:                            OLS   Adj. R-squared:                  0.933\n",
      "Method:                 Least Squares   F-statistic:                     141.8\n",
      "Date:                Tue, 19 Jun 2018   Prob (F-statistic):           1.03e-70\n",
      "Time:                        23:06:07   Log-Likelihood:                 232.74\n",
      "No. Observations:                 143   AIC:                            -435.5\n",
      "Df Residuals:                     128   BIC:                            -391.0\n",
      "Df Model:                          14                                         \n",
      "Covariance Type:            nonrobust                                         \n",
      "=========================================================================================\n",
      "                            coef    std err          t      P>|t|      [0.025      0.975]\n",
      "-----------------------------------------------------------------------------------------\n",
      "const                     0.0039      0.004      0.901      0.369      -0.005       0.013\n",
      "enginelocation            0.3151      0.067      4.700      0.000       0.182       0.448\n",
      "carwidth                  0.3119      0.056      5.548      0.000       0.201       0.423\n",
      "curbweight                0.3401      0.067      5.048      0.000       0.207       0.473\n",
      "enginesize                1.1118      0.143      7.786      0.000       0.829       1.394\n",
      "boreratio                -0.3576      0.054     -6.662      0.000      -0.464      -0.251\n",
      "stroke                   -0.2515      0.044     -5.666      0.000      -0.339      -0.164\n",
      "carbrand_bmw              0.2535      0.024     10.632      0.000       0.206       0.301\n",
      "carbrand_peugeot         -0.0981      0.024     -4.115      0.000      -0.145      -0.051\n",
      "carbrand_porsche          0.1599      0.040      3.965      0.000       0.080       0.240\n",
      "cylindernumber_five       0.1421      0.029      4.819      0.000       0.084       0.200\n",
      "cylindernumber_four       0.2030      0.035      5.819      0.000       0.134       0.272\n",
      "cylindernumber_three      0.4091      0.067      6.095      0.000       0.276       0.542\n",
      "cylindernumber_twelve    -0.4008      0.088     -4.553      0.000      -0.575      -0.227\n",
      "cylindernumber_two        0.4283      0.060      7.193      0.000       0.310       0.546\n",
      "==============================================================================\n",
      "Omnibus:                       22.727   Durbin-Watson:                   1.862\n",
      "Prob(Omnibus):                  0.000   Jarque-Bera (JB):               38.186\n",
      "Skew:                           0.769   Prob(JB):                     5.10e-09\n",
      "Kurtosis:                       5.011   Cond. No.                         43.7\n",
      "==============================================================================\n",
      "\n",
      "Warnings:\n",
      "[1] Standard Errors assume that the covariance matrix of the errors is correctly specified.\n"
     ]
    }
   ],
   "source": [
    "lm = sm.OLS(y_train,X_train_rfe).fit()   # Running the linear model\n",
    "#Let's see the summary of our linear model\n",
    "print(lm.summary())"
   ]
  },
  {
   "cell_type": "code",
   "execution_count": 161,
   "metadata": {},
   "outputs": [
    {
     "data": {
      "text/plain": [
       "const                     1.069230\n",
       "enginelocation            1.768697\n",
       "carwidth                  6.055029\n",
       "curbweight               11.403627\n",
       "enginesize               27.428606\n",
       "boreratio                 5.633860\n",
       "stroke                    2.456853\n",
       "carbrand_bmw              1.295085\n",
       "carbrand_peugeot          1.699840\n",
       "carbrand_porsche          1.892780\n",
       "cylindernumber_five       2.905394\n",
       "cylindernumber_four      13.228243\n",
       "cylindernumber_three      1.772666\n",
       "cylindernumber_twelve     3.049444\n",
       "cylindernumber_two        5.462104\n",
       "dtype: float64"
      ]
     },
     "execution_count": 161,
     "metadata": {},
     "output_type": "execute_result"
    }
   ],
   "source": [
    "#Checking VIF\n",
    "pd.Series([variance_inflation_factor(X_train_rfe.values, i) \n",
    "               for i in range(X_train_rfe.shape[1])], \n",
    "              index=X_train_rfe.columns)"
   ]
  },
  {
   "cell_type": "raw",
   "metadata": {},
   "source": [
    "#Lets remove another variable with very high vif\n",
    "#removing enginesize\n",
    "X_train_rfe.drop(['enginesize'],axis=1,inplace=True)\n",
    "lm = sm.OLS(y_train,X_train_rfe).fit()   # Running the linear model\n",
    "#Let's see the summary of our linear model\n",
    "print(lm.summary())\n",
    "#Checking VIF\n",
    "pd.Series([variance_inflation_factor(X_train_rfe.values, i) \n",
    "               for i in range(X_train_rfe.shape[1])], \n",
    "              index=X_train_rfe.columns)"
   ]
  },
  {
   "cell_type": "raw",
   "metadata": {
    "collapsed": true
   },
   "source": [
    "#after dropping enginesize we can see that for many variables the coeffcient sign has changed. \n",
    "#Makes me believe something is wrong.\n",
    "#Restoring the enginesize and targeting another column with high vif (the cylindernumber columns)\n",
    "#Also, from buisness perspective keeping enginesize makes more sense than cylinder numbers\n",
    "#engine size and cylinder number also seems to be co-related to each other. Keeping both with affect the model accuracy."
   ]
  },
  {
   "cell_type": "code",
   "execution_count": 162,
   "metadata": {},
   "outputs": [
    {
     "name": "stdout",
     "output_type": "stream",
     "text": [
      "                            OLS Regression Results                            \n",
      "==============================================================================\n",
      "Dep. Variable:                  price   R-squared:                       0.923\n",
      "Model:                            OLS   Adj. R-squared:                  0.916\n",
      "Method:                 Least Squares   F-statistic:                     119.7\n",
      "Date:                Tue, 19 Jun 2018   Prob (F-statistic):           2.78e-65\n",
      "Time:                        23:07:16   Log-Likelihood:                 215.96\n",
      "No. Observations:                 143   AIC:                            -403.9\n",
      "Df Residuals:                     129   BIC:                            -362.4\n",
      "Df Model:                          13                                         \n",
      "Covariance Type:            nonrobust                                         \n",
      "=========================================================================================\n",
      "                            coef    std err          t      P>|t|      [0.025      0.975]\n",
      "-----------------------------------------------------------------------------------------\n",
      "const                    -0.0002      0.005     -0.051      0.960      -0.010       0.009\n",
      "enginelocation            0.2961      0.075      3.948      0.000       0.148       0.445\n",
      "carwidth                  0.2951      0.063      4.693      0.000       0.171       0.420\n",
      "curbweight                0.3344      0.075      4.432      0.000       0.185       0.484\n",
      "enginesize                0.4768      0.103      4.623      0.000       0.273       0.681\n",
      "boreratio                -0.1191      0.039     -3.068      0.003      -0.196      -0.042\n",
      "stroke                   -0.0930      0.039     -2.369      0.019      -0.171      -0.015\n",
      "carbrand_bmw              0.2107      0.025      8.294      0.000       0.160       0.261\n",
      "carbrand_peugeot         -0.0745      0.026     -2.831      0.005      -0.127      -0.022\n",
      "carbrand_porsche          0.1295      0.045      2.890      0.005       0.041       0.218\n",
      "cylindernumber_five       0.0253      0.024      1.045      0.298      -0.023       0.073\n",
      "cylindernumber_three      0.1632      0.058      2.794      0.006       0.048       0.279\n",
      "cylindernumber_twelve    -0.0788      0.077     -1.028      0.306      -0.231       0.073\n",
      "cylindernumber_two        0.1310      0.034      3.824      0.000       0.063       0.199\n",
      "==============================================================================\n",
      "Omnibus:                       15.964   Durbin-Watson:                   2.089\n",
      "Prob(Omnibus):                  0.000   Jarque-Bera (JB):               32.448\n",
      "Skew:                           0.462   Prob(JB):                     8.99e-08\n",
      "Kurtosis:                       5.143   Cond. No.                         28.4\n",
      "==============================================================================\n",
      "\n",
      "Warnings:\n",
      "[1] Standard Errors assume that the covariance matrix of the errors is correctly specified.\n"
     ]
    },
    {
     "data": {
      "text/plain": [
       "const                     1.040316\n",
       "enginelocation            1.764518\n",
       "carwidth                  6.039044\n",
       "curbweight               11.401230\n",
       "enginesize               11.407068\n",
       "boreratio                 2.348787\n",
       "stroke                    1.531791\n",
       "carbrand_bmw              1.171890\n",
       "carbrand_peugeot          1.650652\n",
       "carbrand_porsche          1.860984\n",
       "cylindernumber_five       1.558565\n",
       "cylindernumber_three      1.070002\n",
       "cylindernumber_twelve     1.844099\n",
       "cylindernumber_two        1.441054\n",
       "dtype: float64"
      ]
     },
     "execution_count": 162,
     "metadata": {},
     "output_type": "execute_result"
    }
   ],
   "source": [
    "#Lets remove another variable with very high vif\n",
    "X_train_rfe.drop(['cylindernumber_four'],axis=1,inplace=True)\n",
    "lm = sm.OLS(y_train,X_train_rfe).fit()   # Running the linear model\n",
    "#Let's see the summary of our linear model\n",
    "print(lm.summary())\n",
    "#Checking VIF\n",
    "pd.Series([variance_inflation_factor(X_train_rfe.values, i) \n",
    "               for i in range(X_train_rfe.shape[1])], \n",
    "              index=X_train_rfe.columns)"
   ]
  },
  {
   "cell_type": "code",
   "execution_count": 163,
   "metadata": {},
   "outputs": [
    {
     "name": "stdout",
     "output_type": "stream",
     "text": [
      "                            OLS Regression Results                            \n",
      "==============================================================================\n",
      "Dep. Variable:                  price   R-squared:                       0.923\n",
      "Model:                            OLS   Adj. R-squared:                  0.916\n",
      "Method:                 Least Squares   F-statistic:                     129.5\n",
      "Date:                Tue, 19 Jun 2018   Prob (F-statistic):           4.03e-66\n",
      "Time:                        23:09:57   Log-Likelihood:                 215.38\n",
      "No. Observations:                 143   AIC:                            -404.8\n",
      "Df Residuals:                     130   BIC:                            -366.2\n",
      "Df Model:                          12                                         \n",
      "Covariance Type:            nonrobust                                         \n",
      "========================================================================================\n",
      "                           coef    std err          t      P>|t|      [0.025      0.975]\n",
      "----------------------------------------------------------------------------------------\n",
      "const                   -0.0003      0.005     -0.073      0.942      -0.010       0.009\n",
      "enginelocation           0.3072      0.074      4.137      0.000       0.160       0.454\n",
      "carwidth                 0.2972      0.063      4.727      0.000       0.173       0.422\n",
      "curbweight               0.3603      0.071      5.064      0.000       0.220       0.501\n",
      "enginesize               0.4125      0.082      5.029      0.000       0.250       0.575\n",
      "boreratio               -0.1106      0.038     -2.916      0.004      -0.186      -0.036\n",
      "stroke                  -0.0768      0.036     -2.136      0.035      -0.148      -0.006\n",
      "carbrand_bmw             0.2170      0.025      8.793      0.000       0.168       0.266\n",
      "carbrand_peugeot        -0.0802      0.026     -3.117      0.002      -0.131      -0.029\n",
      "carbrand_porsche         0.1334      0.045      2.990      0.003       0.045       0.222\n",
      "cylindernumber_five      0.0236      0.024      0.978      0.330      -0.024       0.071\n",
      "cylindernumber_three     0.1636      0.058      2.800      0.006       0.048       0.279\n",
      "cylindernumber_two       0.1197      0.032      3.689      0.000       0.055       0.184\n",
      "==============================================================================\n",
      "Omnibus:                       17.709   Durbin-Watson:                   2.079\n",
      "Prob(Omnibus):                  0.000   Jarque-Bera (JB):               33.665\n",
      "Skew:                           0.551   Prob(JB):                     4.90e-08\n",
      "Kurtosis:                       5.106   Cond. No.                         22.0\n",
      "==============================================================================\n",
      "\n",
      "Warnings:\n",
      "[1] Standard Errors assume that the covariance matrix of the errors is correctly specified.\n"
     ]
    },
    {
     "data": {
      "text/plain": [
       "const                    1.039838\n",
       "enginelocation           1.728223\n",
       "carwidth                 6.032688\n",
       "curbweight              10.130028\n",
       "enginesize               7.212315\n",
       "boreratio                2.242499\n",
       "stroke                   1.285264\n",
       "carbrand_bmw             1.104913\n",
       "carbrand_peugeot         1.577611\n",
       "carbrand_porsche         1.847095\n",
       "cylindernumber_five      1.551621\n",
       "cylindernumber_three     1.069963\n",
       "cylindernumber_two       1.291257\n",
       "dtype: float64"
      ]
     },
     "execution_count": 163,
     "metadata": {},
     "output_type": "execute_result"
    }
   ],
   "source": [
    "#We can see variables have high p value and low vif, targetting them first. \n",
    "X_train_rfe.drop(['cylindernumber_twelve'],axis=1,inplace=True)\n",
    "lm = sm.OLS(y_train,X_train_rfe).fit()   # Running the linear model\n",
    "#Let's see the summary of our linear model\n",
    "print(lm.summary())\n",
    "#Checking VIF\n",
    "pd.Series([variance_inflation_factor(X_train_rfe.values, i) \n",
    "               for i in range(X_train_rfe.shape[1])], \n",
    "              index=X_train_rfe.columns)"
   ]
  },
  {
   "cell_type": "code",
   "execution_count": 164,
   "metadata": {},
   "outputs": [
    {
     "name": "stdout",
     "output_type": "stream",
     "text": [
      "                            OLS Regression Results                            \n",
      "==============================================================================\n",
      "Dep. Variable:                  price   R-squared:                       0.922\n",
      "Model:                            OLS   Adj. R-squared:                  0.916\n",
      "Method:                 Least Squares   F-statistic:                     141.2\n",
      "Date:                Tue, 19 Jun 2018   Prob (F-statistic):           5.31e-67\n",
      "Time:                        23:10:40   Log-Likelihood:                 214.85\n",
      "No. Observations:                 143   AIC:                            -405.7\n",
      "Df Residuals:                     131   BIC:                            -370.2\n",
      "Df Model:                          11                                         \n",
      "Covariance Type:            nonrobust                                         \n",
      "========================================================================================\n",
      "                           coef    std err          t      P>|t|      [0.025      0.975]\n",
      "----------------------------------------------------------------------------------------\n",
      "const                -4.515e-05      0.005     -0.009      0.992      -0.010       0.009\n",
      "enginelocation           0.3205      0.073      4.393      0.000       0.176       0.465\n",
      "carwidth                 0.3226      0.057      5.637      0.000       0.209       0.436\n",
      "curbweight               0.3714      0.070      5.289      0.000       0.232       0.510\n",
      "enginesize               0.3870      0.078      4.977      0.000       0.233       0.541\n",
      "boreratio               -0.1177      0.037     -3.162      0.002      -0.191      -0.044\n",
      "stroke                  -0.0752      0.036     -2.092      0.038      -0.146      -0.004\n",
      "carbrand_bmw             0.2163      0.025      8.771      0.000       0.168       0.265\n",
      "carbrand_peugeot        -0.0879      0.024     -3.593      0.000      -0.136      -0.040\n",
      "carbrand_porsche         0.1279      0.044      2.890      0.005       0.040       0.216\n",
      "cylindernumber_three     0.1697      0.058      2.923      0.004       0.055       0.285\n",
      "cylindernumber_two       0.1135      0.032      3.568      0.001       0.051       0.176\n",
      "==============================================================================\n",
      "Omnibus:                       16.516   Durbin-Watson:                   2.068\n",
      "Prob(Omnibus):                  0.000   Jarque-Bera (JB):               30.553\n",
      "Skew:                           0.521   Prob(JB):                     2.32e-07\n",
      "Kurtosis:                       5.011   Cond. No.                         21.1\n",
      "==============================================================================\n",
      "\n",
      "Warnings:\n",
      "[1] Standard Errors assume that the covariance matrix of the errors is correctly specified.\n"
     ]
    },
    {
     "data": {
      "text/plain": [
       "const                   1.035467\n",
       "enginelocation          1.669583\n",
       "carwidth                5.001668\n",
       "curbweight              9.872802\n",
       "enginesize              6.480791\n",
       "boreratio               2.160271\n",
       "stroke                  1.282404\n",
       "carbrand_bmw            1.104046\n",
       "carbrand_peugeot        1.428025\n",
       "carbrand_porsche        1.817780\n",
       "cylindernumber_three    1.057575\n",
       "cylindernumber_two      1.241939\n",
       "dtype: float64"
      ]
     },
     "execution_count": 164,
     "metadata": {},
     "output_type": "execute_result"
    }
   ],
   "source": [
    "#similarly , other cylinder numbers\n",
    "X_train_rfe.drop(['cylindernumber_five'],axis=1,inplace=True)\n",
    "lm = sm.OLS(y_train,X_train_rfe).fit()   # Running the linear model\n",
    "#Let's see the summary of our linear model\n",
    "print(lm.summary())\n",
    "#Checking VIF\n",
    "pd.Series([variance_inflation_factor(X_train_rfe.values, i) \n",
    "               for i in range(X_train_rfe.shape[1])], \n",
    "              index=X_train_rfe.columns)"
   ]
  },
  {
   "cell_type": "code",
   "execution_count": 165,
   "metadata": {},
   "outputs": [
    {
     "name": "stdout",
     "output_type": "stream",
     "text": [
      "                            OLS Regression Results                            \n",
      "==============================================================================\n",
      "Dep. Variable:                  price   R-squared:                       0.917\n",
      "Model:                            OLS   Adj. R-squared:                  0.911\n",
      "Method:                 Least Squares   F-statistic:                     146.2\n",
      "Date:                Tue, 19 Jun 2018   Prob (F-statistic):           2.61e-66\n",
      "Time:                        23:11:24   Log-Likelihood:                 210.34\n",
      "No. Observations:                 143   AIC:                            -398.7\n",
      "Df Residuals:                     132   BIC:                            -366.1\n",
      "Df Model:                          10                                         \n",
      "Covariance Type:            nonrobust                                         \n",
      "======================================================================================\n",
      "                         coef    std err          t      P>|t|      [0.025      0.975]\n",
      "--------------------------------------------------------------------------------------\n",
      "const               5.874e-05      0.005      0.012      0.990      -0.010       0.010\n",
      "enginelocation         0.3083      0.075      4.117      0.000       0.160       0.456\n",
      "carwidth               0.2974      0.058      5.113      0.000       0.182       0.413\n",
      "curbweight             0.3753      0.072      5.199      0.000       0.233       0.518\n",
      "enginesize             0.3962      0.080      4.961      0.000       0.238       0.554\n",
      "boreratio             -0.1227      0.038     -3.209      0.002      -0.198      -0.047\n",
      "stroke                -0.0777      0.037     -2.104      0.037      -0.151      -0.005\n",
      "carbrand_bmw           0.2154      0.025      8.495      0.000       0.165       0.266\n",
      "carbrand_peugeot      -0.0840      0.025     -3.342      0.001      -0.134      -0.034\n",
      "carbrand_porsche       0.1358      0.045      2.990      0.003       0.046       0.226\n",
      "cylindernumber_two     0.1144      0.033      3.498      0.001       0.050       0.179\n",
      "==============================================================================\n",
      "Omnibus:                       19.281   Durbin-Watson:                   2.061\n",
      "Prob(Omnibus):                  0.000   Jarque-Bera (JB):               33.784\n",
      "Skew:                           0.637   Prob(JB):                     4.61e-08\n",
      "Kurtosis:                       5.011   Cond. No.                         21.1\n",
      "==============================================================================\n",
      "\n",
      "Warnings:\n",
      "[1] Standard Errors assume that the covariance matrix of the errors is correctly specified.\n"
     ]
    },
    {
     "data": {
      "text/plain": [
       "const                 1.035410\n",
       "enginelocation        1.664124\n",
       "carwidth              4.888489\n",
       "curbweight            9.869177\n",
       "enginesize            6.470048\n",
       "boreratio             2.155719\n",
       "stroke                1.281649\n",
       "carbrand_bmw          1.103865\n",
       "carbrand_peugeot      1.423644\n",
       "carbrand_porsche      1.810981\n",
       "cylindernumber_two    1.241817\n",
       "dtype: float64"
      ]
     },
     "execution_count": 165,
     "metadata": {},
     "output_type": "execute_result"
    }
   ],
   "source": [
    "#similarly , other cylinder numbers - Engine size, curbweight and cylinder number seems to be corelated. \n",
    "# Removing all cylinder numbers from our analysis\n",
    "X_train_rfe.drop(['cylindernumber_three'],axis=1,inplace=True)\n",
    "lm = sm.OLS(y_train,X_train_rfe).fit()   # Running the linear model\n",
    "#Let's see the summary of our linear model\n",
    "print(lm.summary())\n",
    "#Checking VIF\n",
    "pd.Series([variance_inflation_factor(X_train_rfe.values, i) \n",
    "               for i in range(X_train_rfe.shape[1])], \n",
    "              index=X_train_rfe.columns)"
   ]
  },
  {
   "cell_type": "code",
   "execution_count": 166,
   "metadata": {},
   "outputs": [
    {
     "name": "stdout",
     "output_type": "stream",
     "text": [
      "                            OLS Regression Results                            \n",
      "==============================================================================\n",
      "Dep. Variable:                  price   R-squared:                       0.909\n",
      "Model:                            OLS   Adj. R-squared:                  0.903\n",
      "Method:                 Least Squares   F-statistic:                     148.5\n",
      "Date:                Tue, 19 Jun 2018   Prob (F-statistic):           7.00e-65\n",
      "Time:                        23:11:44   Log-Likelihood:                 204.00\n",
      "No. Observations:                 143   AIC:                            -388.0\n",
      "Df Residuals:                     133   BIC:                            -358.4\n",
      "Df Model:                           9                                         \n",
      "Covariance Type:            nonrobust                                         \n",
      "====================================================================================\n",
      "                       coef    std err          t      P>|t|      [0.025      0.975]\n",
      "------------------------------------------------------------------------------------\n",
      "const                0.0010      0.005      0.200      0.842      -0.009       0.011\n",
      "enginelocation       0.3317      0.078      4.269      0.000       0.178       0.485\n",
      "carwidth             0.3096      0.060      5.119      0.000       0.190       0.429\n",
      "curbweight           0.4361      0.073      5.976      0.000       0.292       0.580\n",
      "enginesize           0.2760      0.075      3.676      0.000       0.127       0.425\n",
      "boreratio           -0.1105      0.040     -2.786      0.006      -0.189      -0.032\n",
      "stroke              -0.0672      0.038     -1.752      0.082      -0.143       0.009\n",
      "carbrand_bmw         0.2198      0.026      8.335      0.000       0.168       0.272\n",
      "carbrand_peugeot    -0.1035      0.026     -4.057      0.000      -0.154      -0.053\n",
      "carbrand_porsche     0.1336      0.047      2.824      0.005       0.040       0.227\n",
      "==============================================================================\n",
      "Omnibus:                       18.044   Durbin-Watson:                   2.047\n",
      "Prob(Omnibus):                  0.000   Jarque-Bera (JB):               27.615\n",
      "Skew:                           0.654   Prob(JB):                     1.01e-06\n",
      "Kurtosis:                       4.710   Cond. No.                         19.7\n",
      "==============================================================================\n",
      "\n",
      "Warnings:\n",
      "[1] Standard Errors assume that the covariance matrix of the errors is correctly specified.\n"
     ]
    },
    {
     "data": {
      "text/plain": [
       "const               1.032154\n",
       "enginelocation      1.650943\n",
       "carwidth            4.871136\n",
       "curbweight          9.298272\n",
       "enginesize          5.272046\n",
       "boreratio           2.137642\n",
       "stroke              1.273113\n",
       "carbrand_bmw        1.101114\n",
       "carbrand_peugeot    1.353367\n",
       "carbrand_porsche    1.810614\n",
       "dtype: float64"
      ]
     },
     "execution_count": 166,
     "metadata": {},
     "output_type": "execute_result"
    }
   ],
   "source": [
    "#similarly , other cylinder numbers\n",
    "X_train_rfe.drop(['cylindernumber_two'],axis=1,inplace=True)\n",
    "lm = sm.OLS(y_train,X_train_rfe).fit()   # Running the linear model\n",
    "#Let's see the summary of our linear model\n",
    "print(lm.summary())\n",
    "#Checking VIF\n",
    "pd.Series([variance_inflation_factor(X_train_rfe.values, i) \n",
    "               for i in range(X_train_rfe.shape[1])], \n",
    "              index=X_train_rfe.columns)"
   ]
  },
  {
   "cell_type": "code",
   "execution_count": 167,
   "metadata": {},
   "outputs": [
    {
     "name": "stdout",
     "output_type": "stream",
     "text": [
      "                            OLS Regression Results                            \n",
      "==============================================================================\n",
      "Dep. Variable:                  price   R-squared:                       0.907\n",
      "Model:                            OLS   Adj. R-squared:                  0.902\n",
      "Method:                 Least Squares   F-statistic:                     164.1\n",
      "Date:                Tue, 19 Jun 2018   Prob (F-statistic):           2.39e-65\n",
      "Time:                        23:12:35   Log-Likelihood:                 202.37\n",
      "No. Observations:                 143   AIC:                            -386.7\n",
      "Df Residuals:                     134   BIC:                            -360.1\n",
      "Df Model:                           8                                         \n",
      "Covariance Type:            nonrobust                                         \n",
      "====================================================================================\n",
      "                       coef    std err          t      P>|t|      [0.025      0.975]\n",
      "------------------------------------------------------------------------------------\n",
      "const                0.0014      0.005      0.268      0.789      -0.009       0.012\n",
      "enginelocation       0.3362      0.078      4.297      0.000       0.181       0.491\n",
      "carwidth             0.2953      0.060      4.890      0.000       0.176       0.415\n",
      "curbweight           0.4329      0.074      5.888      0.000       0.287       0.578\n",
      "enginesize           0.2597      0.075      3.459      0.001       0.111       0.408\n",
      "boreratio           -0.0860      0.037     -2.300      0.023      -0.160      -0.012\n",
      "carbrand_bmw         0.2238      0.026      8.456      0.000       0.171       0.276\n",
      "carbrand_peugeot    -0.1030      0.026     -4.009      0.000      -0.154      -0.052\n",
      "carbrand_porsche     0.1365      0.048      2.865      0.005       0.042       0.231\n",
      "==============================================================================\n",
      "Omnibus:                       15.206   Durbin-Watson:                   1.952\n",
      "Prob(Omnibus):                  0.000   Jarque-Bera (JB):               21.050\n",
      "Skew:                           0.599   Prob(JB):                     2.69e-05\n",
      "Kurtosis:                       4.449   Cond. No.                         19.7\n",
      "==============================================================================\n",
      "\n",
      "Warnings:\n",
      "[1] Standard Errors assume that the covariance matrix of the errors is correctly specified.\n"
     ]
    },
    {
     "data": {
      "text/plain": [
       "const               1.030513\n",
       "enginelocation      1.649101\n",
       "carwidth            4.782489\n",
       "curbweight          9.292303\n",
       "enginesize          5.190859\n",
       "boreratio           1.872734\n",
       "carbrand_bmw        1.092653\n",
       "carbrand_peugeot    1.353228\n",
       "carbrand_porsche    1.808390\n",
       "dtype: float64"
      ]
     },
     "execution_count": 167,
     "metadata": {},
     "output_type": "execute_result"
    }
   ],
   "source": [
    "#P value for stroke is on the higher end\n",
    "X_train_rfe.drop(['stroke'],axis=1,inplace=True)\n",
    "lm = sm.OLS(y_train,X_train_rfe).fit()   # Running the linear model\n",
    "#Let's see the summary of our linear model\n",
    "print(lm.summary())\n",
    "#Checking VIF\n",
    "pd.Series([variance_inflation_factor(X_train_rfe.values, i) \n",
    "               for i in range(X_train_rfe.shape[1])], \n",
    "              index=X_train_rfe.columns)"
   ]
  },
  {
   "cell_type": "code",
   "execution_count": 168,
   "metadata": {},
   "outputs": [
    {
     "name": "stdout",
     "output_type": "stream",
     "text": [
      "                            OLS Regression Results                            \n",
      "==============================================================================\n",
      "Dep. Variable:                  price   R-squared:                       0.883\n",
      "Model:                            OLS   Adj. R-squared:                  0.877\n",
      "Method:                 Least Squares   F-statistic:                     146.2\n",
      "Date:                Tue, 19 Jun 2018   Prob (F-statistic):           8.72e-60\n",
      "Time:                        23:13:05   Log-Likelihood:                 185.91\n",
      "No. Observations:                 143   AIC:                            -355.8\n",
      "Df Residuals:                     135   BIC:                            -332.1\n",
      "Df Model:                           7                                         \n",
      "Covariance Type:            nonrobust                                         \n",
      "====================================================================================\n",
      "                       coef    std err          t      P>|t|      [0.025      0.975]\n",
      "------------------------------------------------------------------------------------\n",
      "const                0.0031      0.006      0.530      0.597      -0.008       0.014\n",
      "enginelocation       0.3648      0.087      4.179      0.000       0.192       0.537\n",
      "carwidth             0.5057      0.054      9.294      0.000       0.398       0.613\n",
      "enginesize           0.5516      0.063      8.754      0.000       0.427       0.676\n",
      "boreratio           -0.0339      0.041     -0.835      0.405      -0.114       0.046\n",
      "carbrand_bmw         0.2283      0.030      7.721      0.000       0.170       0.287\n",
      "carbrand_peugeot    -0.0548      0.027     -2.013      0.046      -0.109      -0.001\n",
      "carbrand_porsche     0.0685      0.052      1.326      0.187      -0.034       0.171\n",
      "==============================================================================\n",
      "Omnibus:                       12.656   Durbin-Watson:                   2.032\n",
      "Prob(Omnibus):                  0.002   Jarque-Bera (JB):               13.387\n",
      "Skew:                           0.671   Prob(JB):                      0.00124\n",
      "Kurtosis:                       3.668   Cond. No.                         17.5\n",
      "==============================================================================\n",
      "\n",
      "Warnings:\n",
      "[1] Standard Errors assume that the covariance matrix of the errors is correctly specified.\n"
     ]
    },
    {
     "data": {
      "text/plain": [
       "const               1.027396\n",
       "enginelocation      1.642751\n",
       "carwidth            3.107725\n",
       "enginesize          2.926944\n",
       "boreratio           1.767948\n",
       "carbrand_bmw        1.091742\n",
       "carbrand_peugeot    1.215791\n",
       "carbrand_porsche    1.702105\n",
       "dtype: float64"
      ]
     },
     "execution_count": 168,
     "metadata": {},
     "output_type": "execute_result"
    }
   ],
   "source": [
    "#As stated above, curbweight and engine size is corelated.\n",
    "X_train_rfe.drop(['curbweight'],axis=1,inplace=True)\n",
    "lm = sm.OLS(y_train,X_train_rfe).fit()   # Running the linear model\n",
    "#Let's see the summary of our linear model\n",
    "print(lm.summary())\n",
    "#Checking VIF\n",
    "pd.Series([variance_inflation_factor(X_train_rfe.values, i) \n",
    "               for i in range(X_train_rfe.shape[1])], \n",
    "              index=X_train_rfe.columns)"
   ]
  },
  {
   "cell_type": "code",
   "execution_count": 169,
   "metadata": {},
   "outputs": [
    {
     "name": "stdout",
     "output_type": "stream",
     "text": [
      "                            OLS Regression Results                            \n",
      "==============================================================================\n",
      "Dep. Variable:                  price   R-squared:                       0.883\n",
      "Model:                            OLS   Adj. R-squared:                  0.878\n",
      "Method:                 Least Squares   F-statistic:                     170.8\n",
      "Date:                Tue, 19 Jun 2018   Prob (F-statistic):           9.02e-61\n",
      "Time:                        23:14:08   Log-Likelihood:                 185.55\n",
      "No. Observations:                 143   AIC:                            -357.1\n",
      "Df Residuals:                     136   BIC:                            -336.4\n",
      "Df Model:                           6                                         \n",
      "Covariance Type:            nonrobust                                         \n",
      "====================================================================================\n",
      "                       coef    std err          t      P>|t|      [0.025      0.975]\n",
      "------------------------------------------------------------------------------------\n",
      "const                0.0035      0.006      0.611      0.542      -0.008       0.015\n",
      "enginelocation       0.3659      0.087      4.197      0.000       0.193       0.538\n",
      "carwidth             0.4956      0.053      9.351      0.000       0.391       0.600\n",
      "enginesize           0.5412      0.062      8.771      0.000       0.419       0.663\n",
      "carbrand_bmw         0.2269      0.029      7.694      0.000       0.169       0.285\n",
      "carbrand_peugeot    -0.0598      0.027     -2.252      0.026      -0.112      -0.007\n",
      "carbrand_porsche     0.0584      0.050      1.164      0.247      -0.041       0.158\n",
      "==============================================================================\n",
      "Omnibus:                       10.514   Durbin-Watson:                   2.035\n",
      "Prob(Omnibus):                  0.005   Jarque-Bera (JB):               10.657\n",
      "Skew:                           0.609   Prob(JB):                      0.00485\n",
      "Kurtosis:                       3.551   Cond. No.                         17.4\n",
      "==============================================================================\n",
      "\n",
      "Warnings:\n",
      "[1] Standard Errors assume that the covariance matrix of the errors is correctly specified.\n"
     ]
    },
    {
     "data": {
      "text/plain": [
       "const               1.018518\n",
       "enginelocation      1.642390\n",
       "carwidth            2.956103\n",
       "enginesize          2.812444\n",
       "carbrand_bmw        1.088166\n",
       "carbrand_peugeot    1.157779\n",
       "carbrand_porsche    1.608934\n",
       "dtype: float64"
      ]
     },
     "execution_count": 169,
     "metadata": {},
     "output_type": "execute_result"
    }
   ],
   "source": [
    "# bore ratio has high p value\n",
    "X_train_rfe.drop(['boreratio'],axis=1,inplace=True)\n",
    "lm = sm.OLS(y_train,X_train_rfe).fit()   # Running the linear model\n",
    "#Let's see the summary of our linear model\n",
    "print(lm.summary())\n",
    "#Checking VIF\n",
    "pd.Series([variance_inflation_factor(X_train_rfe.values, i) \n",
    "               for i in range(X_train_rfe.shape[1])], \n",
    "              index=X_train_rfe.columns)"
   ]
  },
  {
   "cell_type": "code",
   "execution_count": 170,
   "metadata": {},
   "outputs": [
    {
     "name": "stdout",
     "output_type": "stream",
     "text": [
      "                            OLS Regression Results                            \n",
      "==============================================================================\n",
      "Dep. Variable:                  price   R-squared:                       0.882\n",
      "Model:                            OLS   Adj. R-squared:                  0.877\n",
      "Method:                 Least Squares   F-statistic:                     204.1\n",
      "Date:                Tue, 19 Jun 2018   Prob (F-statistic):           1.17e-61\n",
      "Time:                        23:14:49   Log-Likelihood:                 184.84\n",
      "No. Observations:                 143   AIC:                            -357.7\n",
      "Df Residuals:                     137   BIC:                            -339.9\n",
      "Df Model:                           5                                         \n",
      "Covariance Type:            nonrobust                                         \n",
      "====================================================================================\n",
      "                       coef    std err          t      P>|t|      [0.025      0.975]\n",
      "------------------------------------------------------------------------------------\n",
      "const                0.0041      0.006      0.717      0.475      -0.007       0.015\n",
      "enginelocation       0.4253      0.071      6.009      0.000       0.285       0.565\n",
      "carwidth             0.5088      0.052      9.812      0.000       0.406       0.611\n",
      "enginesize           0.5368      0.062      8.705      0.000       0.415       0.659\n",
      "carbrand_bmw         0.2257      0.030      7.647      0.000       0.167       0.284\n",
      "carbrand_peugeot    -0.0634      0.026     -2.403      0.018      -0.116      -0.011\n",
      "==============================================================================\n",
      "Omnibus:                        8.899   Durbin-Watson:                   2.040\n",
      "Prob(Omnibus):                  0.012   Jarque-Bera (JB):                8.740\n",
      "Skew:                           0.554   Prob(JB):                       0.0126\n",
      "Kurtosis:                       3.490   Cond. No.                         14.7\n",
      "==============================================================================\n",
      "\n",
      "Warnings:\n",
      "[1] Standard Errors assume that the covariance matrix of the errors is correctly specified.\n"
     ]
    },
    {
     "data": {
      "text/plain": [
       "const               1.010420\n",
       "enginelocation      1.079665\n",
       "carwidth            2.821597\n",
       "enginesize          2.801943\n",
       "carbrand_bmw        1.086721\n",
       "carbrand_peugeot    1.141629\n",
       "dtype: float64"
      ]
     },
     "execution_count": 170,
     "metadata": {},
     "output_type": "execute_result"
    }
   ],
   "source": [
    "#removing porsche\n",
    "X_train_rfe.drop(['carbrand_porsche'],axis=1,inplace=True)\n",
    "lm = sm.OLS(y_train,X_train_rfe).fit()   # Running the linear model\n",
    "#Let's see the summary of our linear model\n",
    "print(lm.summary())\n",
    "#Checking VIF\n",
    "pd.Series([variance_inflation_factor(X_train_rfe.values, i) \n",
    "               for i in range(X_train_rfe.shape[1])], \n",
    "              index=X_train_rfe.columns)"
   ]
  },
  {
   "cell_type": "markdown",
   "metadata": {},
   "source": [
    "The model's pvalue and VIF looks good now. Building model on top of this."
   ]
  },
  {
   "cell_type": "markdown",
   "metadata": {},
   "source": [
    "# Lets Predict using this model"
   ]
  },
  {
   "cell_type": "code",
   "execution_count": 192,
   "metadata": {},
   "outputs": [
    {
     "name": "stdout",
     "output_type": "stream",
     "text": [
      "['const', 'enginelocation', 'carwidth', 'enginesize', 'carbrand_bmw', 'carbrand_peugeot']\n",
      "['symboling', 'fueltype', 'aspiration', 'doornumber', 'enginelocation', 'wheelbase', 'carlength', 'carwidth', 'carheight', 'curbweight', 'enginesize', 'boreratio', 'stroke', 'compressionratio', 'horsepower', 'peakrpm', 'citympg', 'highwaympg', 'carbrand_audi', 'carbrand_bmw', 'carbrand_buick', 'carbrand_chevrolet', 'carbrand_dodge', 'carbrand_honda', 'carbrand_isuzu', 'carbrand_jaguar', 'carbrand_maxda', 'carbrand_mazda', 'carbrand_mercury', 'carbrand_mitsubishi', 'carbrand_nissan', 'carbrand_peugeot', 'carbrand_plymouth', 'carbrand_porcshce', 'carbrand_porsche', 'carbrand_renault', 'carbrand_saab', 'carbrand_subaru', 'carbrand_toyota', 'carbrand_toyouta', 'carbrand_vokswagen', 'carbrand_volkswagen', 'carbrand_volvo', 'carbrand_vw', 'carbody_hardtop', 'carbody_hatchback', 'carbody_sedan', 'carbody_wagon', 'drivewheel_fwd', 'drivewheel_rwd', 'enginetype_dohcv', 'enginetype_l', 'enginetype_ohc', 'enginetype_ohcf', 'enginetype_ohcv', 'enginetype_rotor', 'fuelsystem_2bbl', 'fuelsystem_4bbl', 'fuelsystem_idi', 'fuelsystem_mfi', 'fuelsystem_mpfi', 'fuelsystem_spdi', 'fuelsystem_spfi', 'cylindernumber_five', 'cylindernumber_four', 'cylindernumber_six', 'cylindernumber_three', 'cylindernumber_twelve', 'cylindernumber_two']\n"
     ]
    }
   ],
   "source": [
    "print(list(X_train_rfe))\n",
    "print(list(X_test))"
   ]
  },
  {
   "cell_type": "code",
   "execution_count": 182,
   "metadata": {
    "collapsed": true
   },
   "outputs": [],
   "source": [
    "# Now let's use our model to make predictions.\n",
    "\n",
    "# Creating X_test_6 dataframe by dropping variables from X_test\n",
    "X_test_rfe = X_test[['enginelocation', 'carwidth', 'enginesize', 'carbrand_bmw', 'carbrand_peugeot']]\n",
    "\n",
    "# Adding a constant variable \n",
    "X_test_rfe = sm.add_constant(X_test_rfe)\n",
    "\n",
    "# Making predictions\n",
    "y_pred = lm.predict(X_test_rfe)"
   ]
  },
  {
   "cell_type": "code",
   "execution_count": 186,
   "metadata": {},
   "outputs": [
    {
     "data": {
      "text/plain": [
       "Text(0,0.5,'Car Price')"
      ]
     },
     "execution_count": 186,
     "metadata": {},
     "output_type": "execute_result"
    },
    {
     "data": {
      "image/png": "[encoded data removed]",
      "text/plain": [
       "<matplotlib.figure.Figure at 0x237d61dd080>"
      ]
     },
     "metadata": {},
     "output_type": "display_data"
    }
   ],
   "source": [
    "%matplotlib inline\n",
    "# Actual and Predicted\n",
    "import matplotlib.pyplot as plt\n",
    "c = [i for i in range(1,63,1)] # generating index \n",
    "fig = plt.figure() \n",
    "plt.plot(c,y_test, color=\"blue\", linewidth=2.5, linestyle=\"-\") #Plotting Actual\n",
    "plt.plot(c,y_pred, color=\"red\",  linewidth=2.5, linestyle=\"-\") #Plotting predicted\n",
    "fig.suptitle('Actual and Predicted', fontsize=20)              # Plot heading \n",
    "plt.xlabel('Index', fontsize=18)                               # X-label\n",
    "plt.ylabel('Car Price', fontsize=16)                       # Y-label"
   ]
  },
  {
   "cell_type": "markdown",
   "metadata": {},
   "source": [
    "The graph shows that the prediction is good. Little noise can be seen in 10-20 range. Apart from them everything else is good."
   ]
  },
  {
   "cell_type": "code",
   "execution_count": 195,
   "metadata": {},
   "outputs": [
    {
     "data": {
      "text/plain": [
       "Text(0,0.5,'ytest-ypred')"
      ]
     },
     "execution_count": 195,
     "metadata": {},
     "output_type": "execute_result"
    },
    {
     "data": {
      "image/png": "[encoded data removed]",
      "text/plain": [
       "<matplotlib.figure.Figure at 0x237d74ee4e0>"
      ]
     },
     "metadata": {},
     "output_type": "display_data"
    }
   ],
   "source": [
    "# Error terms\n",
    "c = [i for i in range(1,63,1)]\n",
    "fig = plt.figure()\n",
    "plt.plot(c,y_test-y_pred, color=\"blue\", linewidth=2.5, linestyle=\"-\")\n",
    "fig.suptitle('Error Terms', fontsize=20)              # Plot heading \n",
    "plt.xlabel('Index', fontsize=18)                      # X-label\n",
    "plt.ylabel('ytest-ypred', fontsize=16)                # Y-label"
   ]
  },
  {
   "cell_type": "markdown",
   "metadata": {},
   "source": [
    "Error pattern is very random."
   ]
  },
  {
   "cell_type": "code",
   "execution_count": 189,
   "metadata": {},
   "outputs": [
    {
     "data": {
      "text/plain": [
       "Text(0,0.5,'y_pred')"
      ]
     },
     "execution_count": 189,
     "metadata": {},
     "output_type": "execute_result"
    },
    {
     "data": {
      "image/png": "[encoded data removed]",
      "text/plain": [
       "<matplotlib.figure.Figure at 0x237d635b208>"
      ]
     },
     "metadata": {},
     "output_type": "display_data"
    }
   ],
   "source": [
    "# Plotting y_test and y_pred to understand the spread.\n",
    "fig = plt.figure()\n",
    "plt.scatter(y_test,y_pred)\n",
    "fig.suptitle('y_test vs y_pred', fontsize=20)              # Plot heading \n",
    "plt.xlabel('y_test', fontsize=18)                          # X-label\n",
    "plt.ylabel('y_pred', fontsize=16)   "
   ]
  },
  {
   "cell_type": "markdown",
   "metadata": {},
   "source": [
    "There is a linear relation between y_pred and y_test"
   ]
  },
  {
   "cell_type": "code",
   "execution_count": 196,
   "metadata": {},
   "outputs": [
    {
     "data": {
      "text/plain": [
       "Text(0,0.5,'Index')"
      ]
     },
     "execution_count": 196,
     "metadata": {},
     "output_type": "execute_result"
    },
    {
     "data": {
      "image/png": "[encoded data removed]",
      "text/plain": [
       "<matplotlib.figure.Figure at 0x237d61d5cf8>"
      ]
     },
     "metadata": {},
     "output_type": "display_data"
    }
   ],
   "source": [
    "# Plotting the error terms to understand the distribution.\n",
    "fig = plt.figure()\n",
    "sns.distplot((y_test-y_pred),bins=50)\n",
    "fig.suptitle('Error Terms', fontsize=20)                  # Plot heading \n",
    "plt.xlabel('y_test-y_pred', fontsize=18)                  # X-label\n",
    "plt.ylabel('Index', fontsize=16)  "
   ]
  },
  {
   "cell_type": "code",
   "execution_count": 197,
   "metadata": {},
   "outputs": [
    {
     "name": "stdout",
     "output_type": "stream",
     "text": [
      "RMSE : 0.0676789263489\n"
     ]
    }
   ],
   "source": [
    "# Now let's check the Root Mean Square Error of our model.\n",
    "import numpy as np\n",
    "from sklearn import metrics\n",
    "print('RMSE :', np.sqrt(metrics.mean_squared_error(y_test, y_pred)))"
   ]
  },
  {
   "cell_type": "markdown",
   "metadata": {},
   "source": [
    "# Conclusion"
   ]
  },
  {
   "cell_type": "markdown",
   "metadata": {
    "collapsed": true
   },
   "source": [
    "The car price has a relation with the below parameters -    \n",
    "enginelocation       0.4253      \n",
    "carwidth             0.5088      \n",
    "enginesize           0.5368      \n",
    "carbrand_bmw         0.2257      \n",
    "carbrand_peugeot    -0.0634"
   ]
  },
  {
   "cell_type": "markdown",
   "metadata": {},
   "source": [
    "The model has a variance of 88% which is pretty good.\n",
    "The mean square error is 6.7, the model is not able to match only 6.7% of data accurately.\n",
    "\n",
    "The BMW brand name is having a positive effect on car price, where as the peugeot brand name is having a negative effect.\n",
    "\n",
    "Enginelocation, carwidth and enginesize positively affects the car price."
   ]
  }
 ],
 "metadata": {
  "kernelspec": {
   "display_name": "Python 3",
   "language": "python",
   "name": "python3"
  },
  "language_info": {
   "codemirror_mode": {
    "name": "ipython",
    "version": 3
   },
   "file_extension": ".py",
   "mimetype": "text/x-python",
   "name": "python",
   "nbconvert_exporter": "python",
   "pygments_lexer": "ipython3",
   "version": "3.6.3"
  }
 },
 "nbformat": 4,
 "nbformat_minor": 2
}
